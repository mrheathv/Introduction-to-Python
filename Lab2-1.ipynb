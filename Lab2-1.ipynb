{
 "cells": [
  {
   "cell_type": "markdown",
   "metadata": {},
   "source": [
    "# Introduction to Python (II)"
   ]
  },
  {
   "cell_type": "markdown",
   "metadata": {},
   "source": [
    "***\n",
    "***\n",
    "### INTRODUCTION TO STRINGS\n",
    "## Introduction\n",
    "Words and sentences are fundamental to how we communicate, so it follows that we'd want our computers to be able to work with words and sentences as well.\n",
    "\n",
    "In Python, the way we store something like a word, a sentence, or even a whole paragraph is as a string. A string is a sequence of characters. It can be any length and can contain any letters, numbers, symbols, and spaces.\n",
    "\n",
    "In this lesson, you will learn more about strings and how they are treated in Python. You will learn how to slice strings, select specific characters from strings, search strings for characters, iterate through strings, and use strings in conditional statements.\n",
    "\n",
    "Let's get started."
   ]
  },
  {
   "cell_type": "code",
   "execution_count": 431,
   "metadata": {},
   "outputs": [
    {
     "name": "stdout",
     "output_type": "stream",
     "text": [
      "Pokemon!\n"
     ]
    }
   ],
   "source": [
    "# 1.\n",
    "# Save your favorite word as a string to the variable favorite_word.\n",
    "favorite_word = \"Pokemon!\"\n",
    "# 2.\n",
    "# Print favorite_word.\n",
    "print(favorite_word)"
   ]
  },
  {
   "cell_type": "markdown",
   "metadata": {},
   "source": [
    "## They're all Lists!\n",
    "A string can be thought of as a list of characters.\n",
    "\n",
    "Like any other list, each character in a string has an index. Consider the string\n",
    "```python\n",
    "favorite_fruit = \"blueberry\"\n",
    "```\n",
    "We can select specific letters from this string using the index. Let's look at the first letter of the string.\n",
    "```python\n",
    ">>> favorite_fruit[1]\n",
    "'l'\n",
    "```\n",
    "Whoops, is that the first letter you expected? Notice that the letter at index 1 of \"blueberry\" isn't b, it's l. This is because the indices of a string start at 0. b is located at the zero index and we could select it using:\n",
    "```python\n",
    ">>> favorite_fruit[0]\n",
    "'b'\n",
    "```\n",
    "It's important to note that indices of strings must be integers. If you were to try to select a non-integer index we would get a TypeError:\n",
    "```python\n",
    ">>> favorite_fruit[1.5]\n",
    "Traceback (most recent call last):\n",
    "  File \"<stdin>\", line 1, in <module>\n",
    "TypeError: string indices must be integers, not float\n",
    "```    "
   ]
  },
  {
   "cell_type": "code",
   "execution_count": 432,
   "metadata": {},
   "outputs": [],
   "source": [
    "# 1.\n",
    "# One of the most common things that are represented by strings are names. \n",
    "# Save your name as a string to the variable my_name.\n",
    "my_name = \"Heath\"\n",
    "\n",
    "# 2.\n",
    "# Select the first letter of the variable my_name and save it to first_initial.\n",
    "\n",
    "first_initial = my_name[0]"
   ]
  },
  {
   "cell_type": "markdown",
   "metadata": {},
   "source": [
    "## Cut Me a Slice of String\n",
    "Not only can we select a single character from a string, we can select entire chunks of characters from a string. We can do this with the following syntax:\n",
    "```python\n",
    "string_name[first_index:last_index]\n",
    "```\n",
    "This is called slicing a string. When we slice a string we are creating a new string that starts at (and includes) the first_index and ends at (but excludes) the last_index. Let's look at some examples of this. Recall our favorite fruit:\n",
    "```python\n",
    ">>> favorite_fruit\n",
    "'blueberry'\n",
    "```\n",
    "The indices of this string are shown in the [diagram](https://github.com/rarezhang/MIS-536-Lab-s19/blob/master/img/string-index.svg).\n",
    "\n",
    "\n",
    "\n",
    "Let's say we wanted a new string that contains the letters eberr. We could slice favorite_fruit as follows:\n",
    "```python\n",
    ">>> favorite_fruit[3:8]\n",
    "'eberr'\n",
    "```\n",
    "\n",
    "Notice how the character at the first index, e, is INCLUDED, but the character at the last index, y, is EXCLUDED. If you look for the indices 3 and 8 in the diagram, you can see how the y is outside that range.\n",
    "\n",
    "We can also have open-ended selections. If we remove the first index, the slice starts at the beginning of the string and if we remove the second index the slice continues to the end of the string.\n",
    "\n",
    "```python\n",
    ">>> favorite_fruit[:4]\n",
    "'blue'\n",
    ">>> favorite_fruit[4:]\n",
    "'berry'\n",
    "```\n",
    "\n",
    "Again, notice how the b from berry is excluded from the first example and included in the second example."
   ]
  },
  {
   "cell_type": "code",
   "execution_count": 434,
   "metadata": {},
   "outputs": [],
   "source": [
    "# 1.\n",
    "# You're a programmer working for Copeland's Corporate Company. At this company, each employee's user name is generated by taking the first five letters of their last name.\n",
    "# A new employee, Rodrigo Villanueva, is starting today and you need to create his account. His first_name and last_name are stored as strings in script.py.\n",
    "# Create a variable new_account by slicing the first five letters of his last_name.\n",
    "\n",
    "first_name = \"Rodrigo\"\n",
    "last_name = \"Villanueva\"\n",
    "\n",
    "new_account = last_name[0:4]\n",
    "\n",
    "# 2. \n",
    "# Temporary passwords for new employees are also generated from their last names.\n",
    "# Create a variable called temp_password by creating a slice out of the third through sixth letters of his last_name.\n",
    "\n",
    "temp_password = last_name[2:6]"
   ]
  },
  {
   "cell_type": "markdown",
   "metadata": {},
   "source": [
    "## Concatenating Strings\n",
    "You can also concatenate two existing strings together into a new string. Consider the following two strings.\n",
    "```python\n",
    "fruit_prefix = \"blue\"\n",
    "fruit_suffix = \"berries\"\n",
    "```\n",
    "We can create a new string by concatenating them together as follows:\n",
    "```python\n",
    "favorite_fruit = fruit_prefix + fruit_suffix\n",
    ">>> favorite_fruit\n",
    "'blueberries'\n",
    "```\n",
    "\n",
    "Notice that there are no spaces added here. You have to manually add in the spaces when concatenating strings if you want to include them.\n",
    "\n",
    "```python\n",
    "fruit_sentence = \"My favorite fruit is \" + favorite_fruit\n",
    "```\n",
    "```python\n",
    ">>> fruit_sentence\n",
    "'My favorite fruit is blueberries.`\n",
    "```"
   ]
  },
  {
   "cell_type": "code",
   "execution_count": 436,
   "metadata": {},
   "outputs": [],
   "source": [
    "# 1.\n",
    "# Copeland's Corporate Company has realized that their policy of using the first five letters \n",
    "# of an employee's last name as a user name isn't ideal when they have multiple employees with the same last name.\n",
    "\n",
    "# Write a function called account_generator that takes two inputs, first_name and last_name \n",
    "# and concatenates the first three letters of each and then returns the new account name.\n",
    "\n",
    "first_name = \"Julie\"\n",
    "last_name = \"Blevins\"\n",
    "account_generator = first_name[0:3] + last_name[0:3]\n",
    "\n",
    "\n",
    "# 2.\n",
    "# Test your function on the first_name and last_name provided and save it to the variable new_account\n",
    "\n",
    "new_account = account_generator"
   ]
  },
  {
   "cell_type": "markdown",
   "metadata": {},
   "source": [
    "## More and More String Slicing (How Long is that String?)\n",
    "Python comes with some built-in functions for working with strings. One of the most commonly used of these functions is len(). len() returns the number of characters in a string\n",
    "```python\n",
    ">>> favorite_fruit = \"blueberry\"\n",
    ">>> len(favorite_fruit)\n",
    "9\n",
    "```\n",
    "If you are taking the length of a sentence the spaces are counted as well.\n",
    "```python\n",
    ">>> fruit_sentence = \"I love blueberries\"\n",
    ">>> len(fruit_sentence)\n",
    "18\n",
    "```\n",
    "len() comes in handy when we are trying to select the last character in a string. You can try to run the following code:\n",
    "```python\n",
    ">>> length = len(favorite_fruit)\n",
    ">>> favorite_fruit[length]\n",
    "```\n",
    "But this code would generate an IndexError because, remember, the indices start at 0, so the final character in a string has the index of len(string_name) - 1.\n",
    "```python\n",
    ">>> favorite_fruit[length-1]\n",
    "'y'\n",
    "```\n",
    "You could also slice the last several characters of a string using len():\n",
    "```python\n",
    ">>> favorite_fruit[length-4:]\n",
    "'erry'\n",
    "```\n",
    "Using a len() statement as the starting index and omitting the final index lets you slice n characters from the end of a string where n is the amount you subtract from len()."
   ]
  },
  {
   "cell_type": "code",
   "execution_count": 438,
   "metadata": {},
   "outputs": [],
   "source": [
    "# 1.\n",
    "# Copeland's Corporate Company also wants to update how they generate temporary passwords for new employees.\n",
    "\n",
    "# Write a function called password_generator that takes two inputs, \n",
    "# first_name and last_name and then concatenate the last three letters of each and returns them as a string.\n",
    "length = len(first_name)\n",
    "length2 = len(last_name)\n",
    "password_generator = first_name[length-3:] + last_name[length2-3:]\n",
    "\n",
    "# 2.\n",
    "# Test your function on the provided first_name and last_name and save it to the variable temp_password.\n",
    "first_name = \"Reiko\"\n",
    "last_name = \"Matsuki\"\n",
    "temp_password = password_generator\n"
   ]
  },
  {
   "cell_type": "markdown",
   "metadata": {},
   "source": [
    "## Negative Indices\n",
    "In the previous exercise, we used len() to get a slice of characters at the end of a string.\n",
    "\n",
    "There's a much easier way to do this, we can use negative indices! Negative indices count backward from the end of the string, so `string_name[-1]` is the last character of the string, `string_name[-2]` is the second last character of the string, etc.\n",
    "\n",
    "Here are some examples:\n",
    "```python\n",
    ">>> favorite_fruit = 'blueberry`\n",
    ">>> favorite_fruit[-1]\n",
    "'y'\n",
    ">>> favorite_fruit[-2]\n",
    "'r'\n",
    ">>> favorite_fruit[-3:]\n",
    "'rry'\n",
    "```\n",
    "Notice that we are able to slice the last three characters of 'blueberry' by having a starting index of -3 and omitting a final index."
   ]
  },
  {
   "cell_type": "code",
   "execution_count": 439,
   "metadata": {},
   "outputs": [
    {
     "name": "stdout",
     "output_type": "stream",
     "text": [
      "f\n",
      "life\n"
     ]
    }
   ],
   "source": [
    "# 1.\n",
    "# Use negative indices to find the the second to last character in company_motto. Save this to the variable second_to_last.\n",
    "company_motto = \"Copeland's Corporate Company helps you capably cope with the constant cacophony of daily life\"\n",
    "second_to_last = company_motto[-2]\n",
    "\n",
    "print(second_to_last)\n",
    "# 2.\n",
    "# Use negative indices to create a slice of the last 4 characters in company_motto. Save this to the variable final_word.\n",
    "final_word = company_motto [-4:]\n",
    "print(final_word)"
   ]
  },
  {
   "cell_type": "markdown",
   "metadata": {},
   "source": [
    "## Strings are Immutable\n",
    "So far in this lesson, we've been selecting characters from strings, slicing strings, and concatenating strings. Each time we perform one of these operations we are creating an entirely new string.\n",
    "\n",
    "This is because strings are immutable. This means that we cannot change a string once it is created. We can use it to create other strings, but we cannot change the string itself.\n",
    "\n",
    "This property, generally, is known as mutability. Data types that are mutable can be changed, and data types, like strings, that are immutable cannot be changed."
   ]
  },
  {
   "cell_type": "code",
   "execution_count": 440,
   "metadata": {},
   "outputs": [
    {
     "name": "stdout",
     "output_type": "stream",
     "text": [
      "Rob\n"
     ]
    }
   ],
   "source": [
    "# 1.\n",
    "# The most recent hire at Copeland's Corporate Company is a fellow named Rob Daily. Unfortunately, Human Resources seem to have made a bit of a typo and sent over the wrong first_name.\n",
    "first_name = \"Bob\"\n",
    "last_name = \"Daily\"\n",
    "\n",
    "# Try changing the first character of first_name by running\n",
    "\n",
    "fixed_first_name = \"R\" + first_name[-2:]\n",
    "\n",
    "\n",
    "# 2.\n",
    "# Oh right! Strings are immutable, so we can't change an individual character. \n",
    "# Okay, that's no problem we can still fix this!\n",
    "# Concatenate the string \"R\" with a slice of first_name that includes everything \n",
    "# but the first character and save it to a new string fixed_first_name.\n",
    "\n",
    "print(fixed_first_name)"
   ]
  },
  {
   "cell_type": "markdown",
   "metadata": {},
   "source": [
    "## Escape Characters\n",
    "Occasionally when working with strings, you'll find that you want to include characters that already have a special meaning in python. For example let's say I create the string\n",
    "```python\n",
    " favorite_fruit_conversation = \"He said, \"blueberries are my favorite!\"\"\n",
    "```\n",
    "We'll have accidentally ended the string before we wanted to by including the \" character. The way we can do this is by introducing escape characters. By adding a backslash in front of the special character we want to escape, \\\", we can include it in a string.\n",
    "```python\n",
    "favorite_fruit_conversation = \"He said, \\\"blueberries are my favorite!\\\"\"\n",
    "```\n",
    "Now it works!"
   ]
  },
  {
   "cell_type": "code",
   "execution_count": 441,
   "metadata": {},
   "outputs": [],
   "source": [
    "# When Rob Daily (remember him? From the last exercise?) set up his account he set his password to be\n",
    "'''\n",
    "theycallme\"crazy\"91\n",
    "'''\n",
    "# His password was causing some errors in the system because of the \" marks. \n",
    "# Rewrite his password using escape characters and save it to the variable password.\n",
    "\n",
    "password = \"theycallme\\\"crazy\\\"91\"\n"
   ]
  },
  {
   "cell_type": "markdown",
   "metadata": {},
   "source": [
    "## Iterating through Strings\n",
    "Now you know enough about strings that we can start doing the really fun stuff!\n",
    "\n",
    "Because strings are lists, that means we can iterate through a string using for or while loops. This opens up a whole range of possibilities of ways we can manipulate and analyze strings. Let's take a look at an example.\n",
    "```python\n",
    "def print_each_letter(word):\n",
    "  for letter in word:\n",
    "    print(letter)\n",
    "```    \n",
    "This code will iterate through each letter in a given word and will print it to the terminal.\n",
    "```python\n",
    ">>> favorite_color = \"blue\"\n",
    ">>> print_each_letter(favorite_color)\n",
    "'b'\n",
    "'l'\n",
    "'u'\n",
    "'e'\n",
    "```\n",
    "Let's try a couple problems where we need to iterate through a string."
   ]
  },
  {
   "cell_type": "code",
   "execution_count": 442,
   "metadata": {},
   "outputs": [
    {
     "name": "stdout",
     "output_type": "stream",
     "text": [
      "5\n"
     ]
    }
   ],
   "source": [
    "# Let's replicate a function you are already familiar with, len().\n",
    "\n",
    "# Write a new function called get_length() that takes a string as an input and returns the number of characters in that string. \n",
    "# Do this by iterating through the string, don't cheat and use len()!\n",
    "\n",
    "def get_length(word):\n",
    "  letters = 0\n",
    "  for letter in word:\n",
    "    letters += 1\n",
    "  return (letters)\n",
    "\n",
    "print(get_length(\"tacos\"))"
   ]
  },
  {
   "cell_type": "markdown",
   "metadata": {},
   "source": [
    "## Strings and Conditionals (Part One)\n",
    "Now that we are iterating through strings, we can really explore the potential of strings. When we iterate through a string we do something with each character. By including conditional statements inside of these iterations, we can start to do some really cool stuff.\n",
    "\n",
    "Take a look at the following code:\n",
    "```python\n",
    "favorite_fruit = \"blueberry\"\n",
    "counter = 0\n",
    "for character in favorite_fruit:\n",
    "  if character == \"b\":\n",
    "    counter = counter + 1\n",
    "print(counter)\n",
    "```\n",
    "This code will count the number of bs in the string \"blueberry\" (hint: it's two). Let's take a moment and break down what exactly this code is doing.\n",
    "\n",
    "First, we define our string, favorite_fruit, and a variable called counter, which we set equal to zero. Then the for loop will iterate through each character in favorite_fruit and compare it to the letter b.\n",
    "\n",
    "Each time a character equals b the code will increase the variable counter by one. Then, once all characters have been checked, the code will print the counter, telling us how many bs were in \"blueberry\". This is a great example of how iterating through a string can be used to solve a specific application, in this case counting a certain letter in a word."
   ]
  },
  {
   "cell_type": "code",
   "execution_count": 444,
   "metadata": {},
   "outputs": [
    {
     "name": "stdout",
     "output_type": "stream",
     "text": [
      "True\n"
     ]
    }
   ],
   "source": [
    "# Write a function called letter_check that takes two inputs, word and letter.\n",
    "\n",
    "def letter_check(word, letter):\n",
    "  for letters in word:\n",
    "    if letter in word:\n",
    "      return True\n",
    "    else:\n",
    "      return False\n",
    "    \n",
    "# This function should return True if the word contains the letter and False if it does not.\n",
    "\n",
    "\n",
    "print(letter_check(\"blueberry\",\"b\"))"
   ]
  },
  {
   "cell_type": "markdown",
   "metadata": {},
   "source": [
    "## Strings and Conditionals (Part Two)\n",
    "There's an even easier way than iterating through the entire string to determine if a character is in a string. We can do this type of check more efficiently using in. in checks if one string is part of another string.\n",
    "\n",
    "Here is what the syntax of in looks like:\n",
    "\n",
    "letter in word\n",
    "Here, letter in word is a boolean expression that is True if the string letter is in the string word. Here are some examples:\n",
    "```python\n",
    ">>>\"e\" in \"blueberry\"\n",
    "True\n",
    ">>> \"a\" in \"blueberry\"\n",
    "False\n",
    "```\n",
    "In fact, this method is more powerful than the function you wrote in the last exercise because it works not only with letters, but with entire strings as well.\n",
    "```python\n",
    ">>> \"blue\" in \"blueberry\"\n",
    "True\n",
    ">>> \"blue\" in \"strawberry\"\n",
    "False\n",
    "```"
   ]
  },
  {
   "cell_type": "code",
   "execution_count": 448,
   "metadata": {},
   "outputs": [
    {
     "name": "stdout",
     "output_type": "stream",
     "text": [
      "True\n",
      "['a', 'c', 'o', 's']\n"
     ]
    }
   ],
   "source": [
    "# 1.\n",
    "# Write a function called contains that takes two arguments, big_string and little_string and returns True if big_string contains little_string.\n",
    "# For example contains(\"watermelon\", \"melon\") should return True and contains(\"watermelon\", \"berry\") should return False.\n",
    "\n",
    "def contains(big_string,little_string):\n",
    "  if little_string in big_string:\n",
    "    return True\n",
    "  else:\n",
    "    return False\n",
    "\n",
    "print(contains(\"watermelon\",\"melon\"))\n",
    "\n",
    "# 2.\n",
    "# Write a function called common_letters that takes two arguments, string_one and string_two and then returns a list with all of the letters they have in common.\n",
    "\n",
    "\n",
    "def common_letters(string_one,string_two):\n",
    "    common = []\n",
    "    for letter in string_one:\n",
    "      if letter in string_two and letter not in common:\n",
    "        common.append(letter) \n",
    "    return common\n",
    "  \n",
    "print(common_letters(\"tacos\",\"nachos\"))\n",
    "# The letters in the returned list should be unique. For example,\n",
    "# \"\"\"\n",
    "#common_letters(\"banana\", \"cream\")\n",
    "#should return ['a'].\n",
    "# \"\"\""
   ]
  },
  {
   "cell_type": "markdown",
   "metadata": {},
   "source": [
    "***\n",
    "***\n",
    "### STRING METHODS\n",
    "## Introduction\n",
    "Do you have a gigantic string that you need to parse for information? Do you need to sanitize a users input to work in a function? Do you need to be able to generate outputs with variable values? All of these things can be accomplished with string methods!\n",
    "\n",
    "Python comes with built-in string methods that gives you the power to perform complicated tasks on strings very quickly and efficiently. These string methods allow you to change the case of a string, split a string into many smaller strings, join many small strings together into a larger string, and allow you to neatly combine changing variables with string outputs.\n",
    "\n",
    "In the previous lesson, you worked len(), which was a function that determined the number of characters in a string. This, while similar, was NOT a string method. String methods all have the same syntax:\n",
    "```python\n",
    "string_name.string_method(arguments)\n",
    "```\n",
    "Unlike len(), which is called with a string as it's argument, a string method is called at the end of a string and each one has its own method specific arguments."
   ]
  },
  {
   "cell_type": "markdown",
   "metadata": {},
   "source": [
    "## Formatting Methods\n",
    "There are three string methods that can change the casing of a string. These are .lower(), .upper(), and .title().\n",
    "\n",
    "- .lower() returns the string with all lowercase characters.\n",
    "- .upper() returns the string with all uppercase characters.\n",
    "- .title() returns the string in title case, which means the first letter of each word is capitalized.\n",
    "Here's an example of .lower() in action:\n",
    "```python\n",
    ">>> favorite_song = 'SmOoTH'\n",
    ">>> favorite_song_lowercase = favorite_song.lower()\n",
    ">>> favorite_song_lowercase\n",
    "'smooth'\n",
    "```\n",
    "Every character was changed to lowercase! It's important to remember that string methods can only create new strings, they do not change the original string.\n",
    "```python\n",
    ">>> favorite_song\n",
    "'SmOoTH'\n",
    "```\n",
    "See, it's still the same! These string methods are great for sanitizing user input and standardizing the formatting of your strings."
   ]
  },
  {
   "cell_type": "code",
   "execution_count": 449,
   "metadata": {},
   "outputs": [
    {
     "name": "stdout",
     "output_type": "stream",
     "text": [
      "spring storm Spring Storm\n"
     ]
    }
   ],
   "source": [
    "# You're a programmer working for an organization that is trying to digitize and store poetry called Preserve the Verse.\n",
    "# You've been given two strings, the title of a poem and it's author, \n",
    "# and have been asked to reformat them slightly to fit the conventions of the organization's database.\n",
    "# Make poem_title have title case and save it to poem_title_fixed.\n",
    "poem_title = \"spring storm\"\n",
    "poem_author = \"William Carlos Williams\"\n",
    "\n",
    "poem_title_fixed = poem_title.title()\n",
    "\n",
    "\n",
    "# Print poem_title and poem_title_fixed.\n",
    "# How did the string change? (it's title cased now)\n",
    "\n",
    "print(poem_title + \" \" + poem_title_fixed)\n"
   ]
  },
  {
   "cell_type": "markdown",
   "metadata": {},
   "source": [
    "## Splitting Strings\n",
    ".upper(), .lower(), and .title() all are performed on an existing string and produce a string in return. Let's take a look at a string method that returns a different object entirely!\n",
    "\n",
    ".split() is performed on a string, takes one argument, and returns a list of substrings found between the given argument (which in the case of .split() is known as the delimiter). The following syntax should be used:\n",
    "```python\n",
    "string_name.split(delimiter)\n",
    "```\n",
    "If you do not provide an argument for .split() it will default to splitting at spaces.\n",
    "\n",
    "For example, consider the following strings:\n",
    "```\n",
    ">>> man_its_a_hot_one = \"Like seven inches from the midday sun\"\n",
    ">>> man_its_a_hot_one.split()\n",
    "['Like', 'seven', 'inches', 'from', 'the', 'midday', 'sun']\n",
    "```\n",
    ".split returned a list with each word in the string. Important to note: if we run .split() on a string with no spaces, we will get the same string in return."
   ]
  },
  {
   "cell_type": "code",
   "execution_count": 565,
   "metadata": {},
   "outputs": [],
   "source": [
    "line_one = \"The sky has given over\"\n",
    "line_one_words = line_one.split()\n",
    "# In the code editor is a string of the first line of the poem Spring Storm by William Carlos Williams.\n",
    "# Use .split() to create a list called line_one_words that contains each word in this line of poetry."
   ]
  },
  {
   "cell_type": "markdown",
   "metadata": {},
   "source": [
    "## Splitting Strings II\n",
    "If we provide an argument for .split() we can dictate the character we want our string to be split on. This argument should be provided as a string itself.\n",
    "\n",
    "Consider the following example:\n",
    "```\n",
    ">>> greatest_guitarist = \"santana\"\n",
    ">>> greatest_guitarist.split('n')\n",
    "['sa', 'ta', 'a']\n",
    "```\n",
    "We provided 'n' as the argument for .split() so our string \"santana\" got split at each 'n' character into a list of three strings.\n",
    "\n",
    "What do you think happens if we split the same string at 'a'?\n",
    "```\n",
    ">>> greatest_guitarist.split('a')\n",
    "['s', 'nt', 'n', ' ']\n",
    "```\n",
    "Notice that there is an unexpected extra '' string in this list. When you split a string on a character that it also ends with, you'll end up with an empty string at the end of the list.\n",
    "\n",
    "You can use any string as the argument for .split(), making it a versatile and powerful tool."
   ]
  },
  {
   "cell_type": "code",
   "execution_count": 566,
   "metadata": {},
   "outputs": [
    {
     "name": "stdout",
     "output_type": "stream",
     "text": [
      "['Audre Lorde', 'William Carlos Williams', 'Gabriela Mistral', 'Jean Toomer', 'An Qi', 'Walt Whitman', 'Shel Silverstein', 'Carmen Boullosa', 'Kamala Suraiyya', 'Langston Hughes', 'Adrienne Rich', 'Nikki Giovanni']\n",
      "['Lorde', 'Williams', 'Mistral', 'Toomer', 'Qi', 'Whitman', 'Silverstein', 'Boullosa', 'Suraiyya', 'Hughes', 'Rich', 'Giovanni']\n"
     ]
    }
   ],
   "source": [
    "authors = \"Audre Lorde, William Carlos Williams, Gabriela Mistral, Jean Toomer, An Qi, Walt Whitman, Shel Silverstein, Carmen Boullosa, Kamala Suraiyya, Langston Hughes, Adrienne Rich, Nikki Giovanni\"\n",
    "\n",
    "# Your boss at the Poetry organization sent over a bunch of author names that he wants you to prepare \n",
    "# for importing into the database. Annoyingly, he sent them over as a long string with the names separated by commas.\n",
    "# Using .split() and the provided string, create a list called author_names containing each individual author name \n",
    "# as it's own string.\n",
    "\n",
    "\n",
    "author_names = authors.split(', ')\n",
    "print(author_names)\n",
    "\n",
    "# Great work, but now it turns out they didn't want poet's first names (why didn't they just say that the first time!?)\n",
    "# Create another list called author_last_names that only contains the last names of the poets in the provided string.\n",
    "author_last_names = []\n",
    "\n",
    "for name in author_names:\n",
    "  author_last_names.append(name.split()[-1])\n",
    "  \n",
    "print(author_last_names)"
   ]
  },
  {
   "cell_type": "markdown",
   "metadata": {},
   "source": [
    "## Splitting Strings III\n",
    "We can also split strings using escape sequences. Escape sequences are used to indicate that we want to split by something in a string that is not necessarily a character. The two escape sequences we will cover here are\n",
    "\n",
    "- `\\n` Newline\n",
    "- `\\t` Horizontal Tab\n",
    "Newline or \\n will allow us to split a multi-line string by line breaks and \\t will allow us to split a string by tabs. \\t is particularly useful when dealing with certain datasets because it is not uncommon for data points to be separated by tabs.\n",
    "\n",
    "Let's take a look at an example of splitting by an escape sequence:\n",
    "```python\n",
    "smooth_chorus = \\\n",
    "\"\"\"And if you said, \"This life ain't good enough.\"\n",
    "I would give my world to lift you up\n",
    "I could change my life to better suit your mood\n",
    "Because you're so smooth\"\"\"\n",
    "\n",
    "chorus_lines = smooth_chorus.split('\\n')\n",
    "\n",
    "print(chorus_lines)\n",
    "```\n",
    "This code is splitting the multi-line string at the newlines (`\\n`) which exist at the end of each line and saving it to a new list called chorus_lines. Then it prints chorus_lines which will produce the output\n",
    "```python\n",
    "['And if you said, \"This life ain\\'t good enough.\"', 'I would give my world to lift you up', 'I could change my life to better suit your mood', \"Because you're so smooth\"]\n",
    "```\n",
    "The new list contains each line of the original string as it's own smaller string. Also, notice that Python automatically escaped the ' character when it created the new list."
   ]
  },
  {
   "cell_type": "code",
   "execution_count": 453,
   "metadata": {},
   "outputs": [
    {
     "name": "stdout",
     "output_type": "stream",
     "text": [
      "['The sky has given over ', 'its bitterness. ', 'Out of the dark change ', 'all day long ', 'rain falls and falls ', 'as if it would never end. ', 'Still the snow keeps ', 'its hold on the ground. ', 'But water, water ', 'from a thousand runnels! ', 'It collects swiftly, ', 'dappled with black ', 'cuts a way for itself ', 'through green ice in the gutters. ', 'Drop after drop it falls ', 'from the withered grass-stems ', 'of the overhanging embankment.']\n"
     ]
    }
   ],
   "source": [
    "spring_storm_text = \\\n",
    "\"\"\"The sky has given over \n",
    "its bitterness. \n",
    "Out of the dark change \n",
    "all day long \n",
    "rain falls and falls \n",
    "as if it would never end. \n",
    "Still the snow keeps \n",
    "its hold on the ground. \n",
    "But water, water \n",
    "from a thousand runnels! \n",
    "It collects swiftly, \n",
    "dappled with black \n",
    "cuts a way for itself \n",
    "through green ice in the gutters. \n",
    "Drop after drop it falls \n",
    "from the withered grass-stems \n",
    "of the overhanging embankment.\"\"\"\n",
    "\n",
    "spring_storm_lines = spring_storm_text.split('\\n')\n",
    "\n",
    "print(spring_storm_lines)\n",
    "\n",
    "# The organization has sent you over the full text for William Carlos Williams poem Spring Storm. \n",
    "# They want you to break the poem up into its individual lines.\n",
    "# Create a list called spring_storm_lines that contains a string for each line of Spring Storm."
   ]
  },
  {
   "cell_type": "markdown",
   "metadata": {},
   "source": [
    "## Joining Strings\n",
    "Now that you've learned to break strings apart using .split(), let's learn to put them back together using .join(). .join() is essentially the opposite of .split(), it joins a list of strings together with a given delimiter. The syntax of .join() is:\n",
    "```python\n",
    "'delimiter'.join(list_you_want_to_join)\n",
    "```\n",
    "Now this may seem a little weird, because with .split() the argument was the delimiter, but now the argument is the list. This is because join is still a string method, which means it has to act on a string. The string .join() acts on is the delimiter you want to join with, therefore the list you want to join has to be the argument.\n",
    "\n",
    "It's can be a bit confusing, so let's take a look at an example.\n",
    "```python\n",
    ">>> my_munequita = ['My', 'Spanish', 'Harlem', 'Mona', 'Lisa']\n",
    ">>> ' '.join(my_munequita)\n",
    "'My Spanish Harlem Mona Lisa'\n",
    "```\n",
    "We take the list of strings, my_munequita, and we joined it together with our delimiter, ' ', which is a space. The space is important if you are trying to build a sentence from words, otherwise, we would have ended up with:\n",
    "```python\n",
    ">>> ''.join(my_munequita)\n",
    "'MySpanishHarlemMonaLisa'\n",
    "```"
   ]
  },
  {
   "cell_type": "code",
   "execution_count": 456,
   "metadata": {},
   "outputs": [
    {
     "name": "stdout",
     "output_type": "stream",
     "text": [
      "Black reapers with the sound of steel on stones\n"
     ]
    }
   ],
   "source": [
    "reapers_line_one_words = [\"Black\", \"reapers\", \"with\", \"the\", \"sound\", \"of\", \"steel\", \"on\", \"stones\"]\n",
    "\n",
    "# You've been provided with a list of words from the first line of Jean Toomer's poem Reapers.\n",
    "# Use .join() to combine these words into a sentence and save that sentence as the string reapers_line_one.\n",
    "reapers_line_one = ' '.join(reapers_line_one_words)\n",
    "print(reapers_line_one)"
   ]
  },
  {
   "cell_type": "markdown",
   "metadata": {},
   "source": [
    "## Joining Strings II\n",
    "In the last exercise, we joined together a list of words using a space as the delimiter to create a sentence. In fact, you can use any string as a delimiter to join together a list of strings. For example, if we have the list\n",
    "```python\n",
    ">>> santana_songs = ['Oye Como Va', 'Smooth', 'Black Magic Woman', 'Samba Pa Ti', 'Maria Maria']\n",
    "```\n",
    "We could join this list together with ANY string. One often used string is a comma , because then we can create a string of comma separated variables, or CSV.\n",
    "```python\n",
    ">>> santana_songs_csv = ','.join(santana_songs)\n",
    ">>> santana_songs_csv\n",
    "'Oye Como Va,Smooth,Black Magic Woman,Samba Pa Ti,Maria Maria'\n",
    "```\n",
    "You'll often find data stored in CSVs because it is an efficient, simple file type used by popular programs like Excel or Google Spreadsheets.\n",
    "\n",
    "You can also join using escape sequences as the delimiter. Consider the following example:\n",
    "```python\n",
    "smooth_fifth_verse_lines = ['Well I\\'m from the barrio', 'You hear my rhythm on your radio', 'You feel the turning of the world so soft and slow', 'Turning you \\'round and \\'round']\n",
    "\n",
    "smooth_fifth_verse = '\\n'.join(smooth_fifth_verse_lines)\n",
    "\n",
    "print(smooth_fifth_verse)\n",
    "```\n",
    "This code is taking the list of strings and joining them using a newline \\n as the delimiter. Then it prints the result and produces the output:\n",
    "```\n",
    "Well I'm from the barrio\n",
    "You hear my rhythm on your radio\n",
    "You feel the turning of the world so soft and slow\n",
    "Turning you 'round and 'round\n",
    "```"
   ]
  },
  {
   "cell_type": "code",
   "execution_count": 457,
   "metadata": {},
   "outputs": [
    {
     "name": "stdout",
     "output_type": "stream",
     "text": [
      "All the complicated details\n",
      "of the attiring and\n",
      "the disattiring are completed!\n",
      "A liquid moon\n",
      "moves gently among\n",
      "the long branches.\n",
      "Thus having prepared their buds\n",
      "against a sure winter\n",
      "the wise trees\n",
      "stand sleeping in the cold.\n"
     ]
    }
   ],
   "source": [
    "winter_trees_lines = ['All the complicated details', 'of the attiring and', 'the disattiring are completed!', 'A liquid moon', 'moves gently among', 'the long branches.', 'Thus having prepared their buds', 'against a sure winter', 'the wise trees', 'stand sleeping in the cold.']\n",
    "\n",
    "\n",
    "# You've been given a list, winter_trees_lines, that contains all the lines \n",
    "# to William Carlos Williams poem, Winter Trees. \n",
    "# You've been asked to join together the strings in the list together into a single \n",
    "# string that can be used to display the full poem. Name this string winter_trees_full.\n",
    "\n",
    "winter_trees_full = '\\n'.join(winter_trees_lines)\n",
    "\n",
    "\n",
    "# Print your result to the terminal. Make sure that each line of the poem appears on a new line in your string.\n",
    "print(winter_trees_full)"
   ]
  },
  {
   "cell_type": "markdown",
   "metadata": {},
   "source": [
    "## .strip()\n",
    "When working with strings that come from real data, you will often find that the strings aren't super clean. You'll find lots of extra whitespace, unnecessary linebreaks, and rogue tabs.\n",
    "\n",
    "Python provides a great method for cleaning strings: .strip(). Stripping a string removes all whitespace characters from the beginning and end. Consider the following example:\n",
    "```python\n",
    ">>> featuring = \"           rob thomas                 \"\n",
    ">>> featuring.strip()\n",
    "'rob thomas'\n",
    "```\n",
    "All the whitespace on either side of the string has been stripped, but the whitespace in the middle has been preserved.\n",
    "\n",
    "You can also use .strip() with a character argument, which will strip that character from either end of the string.\n",
    "```python\n",
    ">>> featuring = \"!!!rob thomas       !!!!!\"\n",
    ">>> featuring.strip('!')\n",
    "'rob thomas       '\n",
    "```\n",
    "By including the argument '!' we are able to strip all of the ! characters from either side of the string. Notice that now that we've included an argument we are no longer stripping whitespace, we are ONLY stripping the argument."
   ]
  },
  {
   "cell_type": "code",
   "execution_count": 466,
   "metadata": {},
   "outputs": [
    {
     "name": "stdout",
     "output_type": "stream",
     "text": [
      "Always\n",
      "in the middle of our bloodiest battles\n",
      "you lay down your arms\n",
      "like flowering mines\n",
      "\n",
      "to conquer me home.\n"
     ]
    }
   ],
   "source": [
    "love_maybe_lines = ['Always    ', '     in the middle of our bloodiest battles  ', 'you lay down your arms', '           like flowering mines    ','\\n' ,'   to conquer me home.    ']\n",
    "\n",
    "# They sent over another list containing all the lines to the Audre Lorde poem, Love, Maybe. \n",
    "# They want you to join together all of the lines into a single string that can be used to display the poem again, \n",
    "# but this time, you've noticed that the list contains a ton of unnecessary whitespace that doesn't appear in the actual poem.\n",
    "\n",
    "# First, use .strip() on each line in the list to remove the unnecessary whitespace \n",
    "# and save it as a new list love_maybe_lines_stripped.\n",
    "\n",
    "love_maybe_lines_stripped = []\n",
    "for lines in love_maybe_lines:\n",
    "  love_maybe_lines_stripped.append(lines.strip())\n",
    "\n",
    "# .join() the lines in love_maybe_lines_stripped together into one large multi-line string, \n",
    "# love_maybe_full, that can be printed to display the poem.\n",
    "# Each line of the poem should show up on its own line.\n",
    "\n",
    "\n",
    "love_maybe_full = '\\n'.join(love_maybe_lines_stripped)\n",
    "\n",
    "\n",
    "# Print love_maybe_full.\n",
    "print(love_maybe_full)"
   ]
  },
  {
   "cell_type": "markdown",
   "metadata": {},
   "source": [
    "## Replace\n",
    "The next string method we will cover is .replace(). Replace takes two arguments and replaces all instances of the first argument in a string with the second argument. The syntax is as follows\n",
    "```python\n",
    "string_name.replace(character_being_replaced, new_character)\n",
    "```\n",
    "Great! Let's put it in context and look at an example.\n",
    "```python\n",
    ">>> with_spaces = \"You got the kind of loving that can be so smooth\"\n",
    ">>> with_underscores = with_spaces.replace(' ', '_')\n",
    ">>> with_underscores\n",
    "'You_got_the_kind_of_loving_that_can_be_so_smooth'\n",
    "```\n",
    "Here we used .replace() to change every instance of a space in the string above to be an underscore instead."
   ]
  },
  {
   "cell_type": "code",
   "execution_count": 567,
   "metadata": {},
   "outputs": [],
   "source": [
    "toomer_bio = \\\n",
    "\"\"\"\n",
    "Nathan Pinchback Tomer, who adopted the name Jean Tomer early in his literary career, was born in Washington, D.C. in 1894. Jean is the son of Nathan Tomer was a mixed-race freedman, born into slavery in 1839 in Chatham County, North Carolina. Jean Tomer is most well known for his first book Cane, which vividly portrays the life of African-Americans in southern farmlands.\n",
    "\"\"\"\n",
    "\n",
    "\n",
    "# The poetry organization has sent over the bio for Jean Toomer as it currently exists on their site. \n",
    "# Notice that there was a mistake with his last name and all instances of Toomer are lacking one o.\n",
    "\n",
    "# Use .replace() to change all instances of Tomer in the bio to Toomer. \n",
    "# Save the updated bio to the string toomer_bio_fixed.\n",
    "toomer_bio_fixed = toomer_bio.replace('Tomer', 'Toomer')"
   ]
  },
  {
   "cell_type": "markdown",
   "metadata": {},
   "source": [
    "## .find()\n",
    "Another interesting string method is `find()` .find() takes a string as an argument and searching the string it was run on for that string. It then returns the first index value where that string is located.\n",
    "\n",
    "Here's an example:\n",
    "```python\n",
    ">>> 'smooth'.find('t')\n",
    "'4'\n",
    "```\n",
    "We searched the string 'smooth' for the string 't' and found that it was at the fourth index spot, so .find() returned 4.\n",
    "\n",
    "You can also search for larger strings, and .find() will return the index value of the first character of that string.\n",
    "```python\n",
    ">>>\"smooth\".find('oo')\n",
    "'2'\n",
    "```\n",
    "Notice here that 2 is the index of the first o."
   ]
  },
  {
   "cell_type": "code",
   "execution_count": 470,
   "metadata": {},
   "outputs": [],
   "source": [
    "god_wills_it_line_one = \"The very earth will disown you\"\n",
    "\n",
    "# In the code editor is the first line of Gabriela Mistral's poem God Wills It \n",
    "\"\"\"\n",
    "God Wills It: https://www.poetryfoundation.org/poetrymagazine/browse?contentId=23104\n",
    "\"\"\"\n",
    "# At what index place does the word \"disown\" appear? Save that index place to the variable disown_placement.\n",
    "disown_placement = god_wills_it_line_one.find('disown')"
   ]
  },
  {
   "cell_type": "markdown",
   "metadata": {},
   "source": [
    "## .format()\n",
    "Python also provides a handy string method for including variables in strings. This method is .format(). .format() takes variables as an argument and includes them in the string that it is run on. You include {} marks as placeholders for where those variables will be imported.\n",
    "\n",
    "Consider the following function:\n",
    "```python\n",
    "def favorite_song_statement(song, artist):\n",
    "  return \"My favorite song is {} by {}.\".format(song, artist)\n",
    "```\n",
    "The function favorite_song_statement takes two arguments, song and artist, then returns the a string that includes both of the arguments and prints a sentence. Note: .format() can take as many arguments are there are {} in the string it is run on, which in this case in two.\n",
    "\n",
    "Here's an example of the function being run:\n",
    "```python\n",
    ">>> favorite_song_statement(\"Smooth\", \"Santana\")\n",
    "\"My favorite song is Smooth by Santana\"\n",
    "```\n",
    "Now you may be asking yourself, I could have written this function using string concatenation instead of .format(), why is this method better? The answer is legibility and reusability. It is much easier to picture the end result .format() than it is to picture the end result of string concatenation and legibility is everything. You can also reuse the same base string with different variables, allowing you to cut down on unnecessary, hard to interpret code."
   ]
  },
  {
   "cell_type": "code",
   "execution_count": 568,
   "metadata": {},
   "outputs": [
    {
     "data": {
      "text/plain": [
       "'The poem I Hear America Singing is written by Walt Whitman.'"
      ]
     },
     "execution_count": 568,
     "metadata": {},
     "output_type": "execute_result"
    }
   ],
   "source": [
    "# Write a function called poem_title_card that takes two inputs poet and title. \n",
    "# The function should use .format() to return the following string:\n",
    "\"\"\"\n",
    "The poem \"[TITLE]\" is written by [POET].\n",
    "\"\"\"\n",
    "\n",
    "def poem_title_card(poet, title):\n",
    "  return \"The poem {} is written by {}.\".format(title, poet)\n",
    "# For example, if the function is given the inputs\n",
    "\n",
    "poem_title_card(\"Walt Whitman\", \"I Hear America Singing\")\n",
    "\n",
    "# It should return the string\n"
   ]
  },
  {
   "cell_type": "markdown",
   "metadata": {},
   "source": [
    "## .format() II\n",
    ".format() can be made even more legible for other people reading your code by including keywords. Previously with .format(), you had to make sure that your variables appeared as arguments in the same order that you wanted them to appear in the string, which just added unnecessary complications when writing code.\n",
    "\n",
    "By including keywords in the string and in the arguments, you can remove that ambiguity. Let's look at an example.\n",
    "```python\n",
    "def favorite_song_statement(song, artist):\n",
    "    return \"My favorite song is {song} by {artist}.\".format(song=song, artist=artist)\n",
    "```\n",
    "Now it is clear to anyone reading the string what it supposed to return, they don't even need to look at the arguments of .format() in order to get a clear understanding of what is supposed to happen. You can even reverse the order of artist and song in the code above and it will work the same way. This makes writing AND reading the code much easier."
   ]
  },
  {
   "cell_type": "code",
   "execution_count": 472,
   "metadata": {},
   "outputs": [],
   "source": [
    "def poem_description(publishing_date, author, title, original_work):\n",
    "  poem_desc = \"The poem {title} by {author} was originally published in {original_work} in {publishing_date}.\".format(publishing_date=publishing_date, author=author, title=title, original_work=original_work)\n",
    "  return poem_desc\n",
    "\n",
    "\n",
    "# The function poem_description is supposed to use .format() to print out some quick information about a poem, \n",
    "# but it seems to be causing some errors currently.\n",
    "# Fix the function by using keywords in the .format() method.\n",
    "\n",
    "\n",
    "\n",
    "my_beard_description = poem_description(1974,\"Shel Silverstein\",\"My Beard\",\"Where the Sidewalk Ends\")\n",
    "\n",
    "# Run poem_description with the following arguments and save the results to the variable my_beard_description:\n"
   ]
  },
  {
   "cell_type": "markdown",
   "metadata": {},
   "source": [
    "***\n",
    "***\n",
    "### MODULES: PYTHON\n",
    "## Modules Python Introduction\n",
    "In the world of programming, a great deal of emphasis is placed on making code reusable. In most cases, we write code so that it can be reusable by ourselves. But sometimes we share code that's helpful across a broad range of situations.\n",
    "\n",
    "In this lesson, we'll explore how to use tools other people have built in Python that are not included automatically for you when you install Python. Python allows us to package code into files or sets of files called modules.\n",
    "\n",
    "A module is a collection of Python declarations intended broadly to be used as a tool. Modules are also often referred to as \"libraries\" or \"packages\" — a package is really a directory that holds a collection of modules.\n",
    "\n",
    "Usually, the basic syntax you need at the top of your file to use a module in that file is:\n",
    "```python\n",
    "from module_name import object_name\n",
    "```\n",
    "Often, a library will include a lot of code that you don't need that may slow down your program or conflict with existing code. Because of this, it makes sense to only import what you need.\n",
    "\n",
    "One common library that comes as part of the Python Standard Library is `datetime`. `datetime` helps you work with dates and times in Python.\n",
    "\n",
    "Let's get started by importing and using the `datetime` module. In this case, you'll notice that `datetime` is both the name of the library and the name of the object that you are importing."
   ]
  },
  {
   "cell_type": "code",
   "execution_count": 569,
   "metadata": {},
   "outputs": [
    {
     "name": "stdout",
     "output_type": "stream",
     "text": [
      "2020-09-06 21:18:09.464092\n"
     ]
    }
   ],
   "source": [
    "# 1.\n",
    "# import the datetime type from the datetime library.\n",
    "\n",
    "from datetime import datetime\n",
    "\n",
    "# 2.\n",
    "# Create a variable current_time and set it equal to datetime.now().\n",
    "\n",
    "current_time = datetime.now()\n",
    "\n",
    "# 3.\n",
    "# Print out current_time.\n",
    "\n",
    "print(current_time)"
   ]
  },
  {
   "cell_type": "markdown",
   "metadata": {},
   "source": [
    "## Modules Python Random\n",
    "`datetime` is just the beginning. There are hundreds of Python modules that you can use. Another one of the most commonly used is random which allows you to generate numbers or select items at random.\n",
    "\n",
    "With `random`, we'll be using more than one piece of the module's functionality, so the import syntax will look like:\n",
    "```python \n",
    "import random\n",
    "```\n",
    "We'll work with two common `random` functions:\n",
    "\n",
    "- `random.choice()` which takes a list as an argument and returns a number from the list\n",
    "- `random.randint()` which takes two numbers as arguments and generates a random number between the two numbers you passed in\n",
    "Let's take randomness to a whole new level by picking a random number from a list of randomly generated numbers between 1 and 100.\n",
    "\n",
    "\n"
   ]
  },
  {
   "cell_type": "code",
   "execution_count": 570,
   "metadata": {},
   "outputs": [],
   "source": [
    "# 1.\n",
    "# import the random library.\n",
    "import random\n",
    "\n",
    "# 2.\n",
    "# Create a variable random_list and set it equal to an empty list\n",
    "# Turn the empty list into a list comprehension that uses random.randint() \n",
    "# to generate a random integer between 1 and 100 (inclusive) for each number in range(101).\n",
    "# Create random_list below:\n",
    "random_list = []\n",
    "\n",
    "# 3.\n",
    "# Create a new variable randomer_number and set it equal to random.choice() with random_list as an argument.\n",
    "# Create randomer_number below:\n",
    "\n",
    "# 4.\n",
    "# Print randomer_number below:\n",
    "\n"
   ]
  },
  {
   "cell_type": "markdown",
   "metadata": {},
   "source": [
    "## Modules Python Namespaces\n",
    "Notice that when we want to invoke the randint() function we call random.randint(). This is default behavior where Python offers a namespace for the module. A namespace isolates the functions, classes, and variables defined in the module from the code in the file doing the importing. Your local namespace, meanwhile, is where your code is run.\n",
    "\n",
    "Python defaults to naming the namespace after the module being imported, but sometimes this name could be ambiguous or lengthy. Sometimes, the module's name could also conflict with an object you have defined within your local namespace.\n",
    "\n",
    "Fortunately, this name can be altered by aliasing using the as keyword:\n",
    "```python\n",
    "import module_name as name_you_pick_for_the_module\n",
    "```\n",
    "Aliasing is most often done if the name of the library is long and typing the full name every time you want to use one of its functions is laborious.\n",
    "\n",
    "You might also occasionally encounter `import *`. The `*` is known as a \"wildcard\" and matches anything and everything. This syntax is considered dangerous because it could pollute our local namespace. Pollution occurs when the same name could apply to two possible things. For example, if you happen to have a function `floor()` focused on floor tiles, using from math import * would also import a function floor() that rounds down floats.\n",
    "\n",
    "Let's combine your knowledge of the random library with another fun library called matplotlib, which allows you to plot your Python code in 2D.\n",
    "\n",
    "You'll use a new random function `random.sample()` that takes a range and a number as its arguments. It will return the specified number of random numbers from that range."
   ]
  },
  {
   "cell_type": "code",
   "execution_count": 571,
   "metadata": {},
   "outputs": [
    {
     "data": {
      "image/png": "[encoded data removed]",
      "text/plain": [
       "<Figure size 432x288 with 1 Axes>"
      ]
     },
     "metadata": {
      "needs_background": "light"
     },
     "output_type": "display_data"
    }
   ],
   "source": [
    "# 1.\n",
    "# import pyplot from the module matplotlib with the alias plt.\n",
    "import matplotlib.pyplot as plt\n",
    "import random\n",
    "# 2.\n",
    "# Import random below the other import statements. It's best to keep all imports at the top of your file.\n",
    "\n",
    "# 3.\n",
    "# Create a variable numbers_a and set it equal to the range of numbers 1 through 12 (inclusive).\n",
    "numbers_a = range(1,13)\n",
    "# 4.\n",
    "# Create a variable numbers_b and set it equal to a random sample of twelve numbers within range(1000).\n",
    "numbers_b = random.sample(range(1000),12)\n",
    "\n",
    "# 5.\n",
    "# Now let's plot these number sets against each other using plt. Call plt.plot() with your two variables as its arguments.\n",
    "plt.plot(numbers_a,numbers_b)\n",
    "\n",
    "# 6.\n",
    "# Now call plt.show() and run your code!\n",
    "plt.show()"
   ]
  },
  {
   "cell_type": "markdown",
   "metadata": {},
   "source": [
    "## Modules Python Decimals\n",
    "Let's say you are writing software that handles monetary transactions. If you used Python's built-in floating-point arithmetic to calculate a sum, it would result in a weirdly formatted number.\n",
    "```python\n",
    "cost_of_gum = 0.10\n",
    "cost_of_gumdrop = 0.35\n",
    "\n",
    "cost_of_transaction = cost_of_gum + cost_of_gumdrop\n",
    "# Returns 0.44999999999999996\n",
    "```\n",
    "Being familiar with rounding errors in floating-point arithmetic you want to use a data type that performs decimal arithmetic more accurately. You could do the following:\n",
    "```python\n",
    "from decimal import Decimal\n",
    "\n",
    "cost_of_gum = Decimal('0.10')\n",
    "cost_of_gumdrop = Decimal('0.35')\n",
    "\n",
    "cost_of_transaction = cost_of_gum + cost_of_gumdrop\n",
    "# Returns 0.45 instead of 0.44999999999999996\n",
    "```\n",
    "Above, we use the decimal module's Decimal data type to add 0.10 with 0.35. Since we used the Decimal type the arithmetic acts much more as expected.\n",
    "\n",
    "Usually, modules will provide functions or data types that we can then use to solve a general problem, allowing us more time to focus on the software that we are building to solve a more specific problem.\n",
    "\n",
    "Ready, set, fix some floating point math by using decimals!"
   ]
  },
  {
   "cell_type": "code",
   "execution_count": 572,
   "metadata": {},
   "outputs": [
    {
     "name": "stdout",
     "output_type": "stream",
     "text": [
      "0.890\n",
      "0.3445\n"
     ]
    }
   ],
   "source": [
    "# 1.\n",
    "# Run your code to see the weird floating point math that occurs.\n",
    "\n",
    "# 2. \n",
    "# import Decimal from the decimal module.\n",
    "# Import Decimal below:\n",
    "\n",
    "from decimal import Decimal\n",
    "\n",
    "\n",
    "# 3.\n",
    "# Use Decimal to make three_decimal_points \n",
    "# only have three decimals points and four_decimal_points to only have four decimal points.\n",
    "# Fix the floating point math below:\n",
    "three_decimal_points = Decimal('0.200') + Decimal('.690')\n",
    "print(three_decimal_points)\n",
    "\n",
    "four_decimal_points = Decimal('0.53') * Decimal('0.65')\n",
    "print(four_decimal_points)"
   ]
  },
  {
   "cell_type": "markdown",
   "metadata": {},
   "source": [
    "***\n",
    "***\n",
    "### CREATING DICTIONARIES\n",
    "## What is a Dictionary?\n",
    "A dictionary is an unordered set of key: value pairs.\n",
    "\n",
    "Suppose we want to store the prices of various items sold at a cafe:\n",
    "\n",
    "- Oatmeal is 3 dollars\n",
    "- Avocado Toast is 6 dollars\n",
    "- Carrot Juice is 5 dollars\n",
    "- Blueberry Muffin is 2 dollars\n",
    "In Python, we can create a dictionary called menu to store this data:\n",
    "```python \n",
    "menu = {\"oatmeal\": 3, \"avocado toast\": 6, \"carrot juice\": 5, \"blueberry muffin\": 2}\n",
    "```\n",
    "Notice that:\n",
    "\n",
    "1. A dictionary begins and ends with curly braces (`{` and `}`).\n",
    "2. Each item consists of a key (i.e., `\"oatmeal\"`) and a value (i.e., `3`)\n",
    "3. Each key: value pair (i.e., `\"oatmeal\": 3` or \"avocado `toast\": 6`) is separated by a comma (`,`)\n",
    "4. It's considered good practice to insert a space (` `) after each comma, but your code will still run without the space.\n",
    "\n",
    "Dictionaries provide us with a way to map pieces of data to each other, so that we can quickly find values that are associated with one another."
   ]
  },
  {
   "cell_type": "code",
   "execution_count": 573,
   "metadata": {},
   "outputs": [
    {
     "name": "stdout",
     "output_type": "stream",
     "text": [
      "{'living room': 21, 'kitchen': 23, 'bedroom': 20, 'pantry': 22}\n"
     ]
    }
   ],
   "source": [
    "sensors =  {\"living room\": 21, \"kitchen\": 23, \"bedroom\": 20}\n",
    "num_cameras = {\"backyard\": 6,  \"garage\": 2, \"driveway\": 1}\n",
    "\n",
    "sensors[\"pantry\"] = 22\n",
    "# 1.\n",
    "# You have a dictionary of temperature sensors in your house and what temperatures they read. \n",
    "# You've just added a sensor to your \"pantry\", and it reads 22 degrees. Add this pair to the dictionary \"sensors\".\n",
    "\n",
    "\n",
    "print(sensors)\n",
    "\n",
    "\n",
    "# 2.\n",
    "# Remove the # in front of the definition of the dictionary num_cameras, which represents the number of cameras in each area around your house. If you run this code, you'll get an error:\n",
    "\n",
    "# SyntaxError: invalid syntax\n",
    "# Try to find and fix the syntax error to make this code run."
   ]
  },
  {
   "cell_type": "markdown",
   "metadata": {},
   "source": [
    "## Make a Dictionary\n",
    "In the previous exercise we saw a dictionary that maps strings to numbers (i.e., \"oatmeal\": 3). However, the keys can be numbers as well. For example, if we were mapping restaurant bill subtotals to the bill total after tip, a dictionary could look like:\n",
    "```python\n",
    "subtotal_to_total = {20: 24, 10: 12, 5: 6, 15: 18}\n",
    "```\n",
    "Values can be any type. You can use a string, a number, a list, or even another dictionary as the value associated with a key!\n",
    "\n",
    "For example:\n",
    "```python\n",
    "students_in_classes = {\"software design\": [\"Aaron\", \"Delila\", \"Samson\"], \"cartography\": [\"Christopher\", \"Juan\", \"Marco\"], \"philosophy\": [\"Frederica\", \"Manuel\"]}\n",
    "```\n",
    "The list `[\"Aaron\", \"Delila\", \"Samson\"]`, which is the value for the key `\"software design\"`, represents the students in that class.\n",
    "\n",
    "You can also mix and match key and value types. For example:\n",
    "```python\n",
    "person = {\"name\": \"Shuri\", \"age\": 18, \"siblings\": [\"T'Chaka\", \"Ramonda\"]}\n",
    "```"
   ]
  },
  {
   "cell_type": "code",
   "execution_count": 574,
   "metadata": {},
   "outputs": [],
   "source": [
    "# 1.\n",
    "# Create a dictionary called translations that maps the following words in English to their definitions in Sindarin (the language of the elves):\n",
    "\"\"\"\n",
    "English\tSindarin\n",
    "mountain\torod\n",
    "bread\tbass\n",
    "friend\tmellon\n",
    "horse\troch\n",
    "\"\"\"\n",
    "translations = {\"English\": \"Sindarin\", \"mountain\": \"orod\", \"bread\": \"bass\", \"friend\": \"mellon\", \"horse\": \"roch\"}"
   ]
  },
  {
   "cell_type": "markdown",
   "metadata": {},
   "source": [
    "## Invalid Keys\n",
    "We can have a list or a dictionary as a value of an item in a dictionary, but we cannot use these data types as keys of the dictionary. If we try to, we will get a `TypeError`. For example:\n",
    "```python\n",
    "powers = {[1, 2, 4, 8, 16]: 2, [1, 3, 9, 27, 81]: 3}\n",
    "```\n",
    "will yield:\n",
    "```\n",
    "TypeError: unhashable type: 'list'\n",
    "```\n",
    "The word `\"unhashable\"` in this context means that this 'list' is an object that can be changed. Dictionaries in Python rely on each key having a hash value, a specific identifier for the key. If the key can change, that hash value would not be reliable. So the keys must always be unchangeable, hashable data types, like numbers or strings."
   ]
  },
  {
   "cell_type": "code",
   "execution_count": 575,
   "metadata": {},
   "outputs": [],
   "source": [
    "# 1.\n",
    "# Run the code. You should get an error:\n",
    "\"\"\"\n",
    "TypeError: unhashable type\n",
    "\"\"\"\n",
    "\n",
    "# Make the code run without errors by flipping the items in the dictionary so that \n",
    "# the strings are the keys and the lists are the values\n",
    "children = {\"von Trapp\":[\"Johannes\", \"Rosmarie\", \"Eleonore\"], \"Corleone\":[\"Sonny\", \"Fredo\", \"Michael\"]}"
   ]
  },
  {
   "cell_type": "markdown",
   "metadata": {},
   "source": [
    "## Empty Dictionary\n",
    "A dictionary doesn't have to contain anything. You can create an empty dictionary:\n",
    "```python\n",
    "empty_dict = {}\n",
    "```\n",
    "We can create an empty dictionary when we plan to fill it later based on some other input. We will explore ways to fill a dictionary in the next exercise."
   ]
  },
  {
   "cell_type": "code",
   "execution_count": 576,
   "metadata": {},
   "outputs": [],
   "source": [
    "# Create an empty dictionary called my_empty_dictionary.\n",
    "my_empty_dictionary = {}"
   ]
  },
  {
   "cell_type": "markdown",
   "metadata": {},
   "source": [
    "## Add A Key\n",
    "To add a single key : value pair to a dictionary, we can use the syntax:\n",
    "```python\n",
    "my_dict[\"new_key\"] = \"new_value\"\n",
    "```\n",
    "For example, if we had our `menu` object from the first exercise:\n",
    "```python\n",
    "menu = {\"oatmeal\": 3, \"avocado toast\": 6, \"carrot juice\": 5, \"blueberry muffin\": 2}\n",
    "```\n",
    "and we wanted to add a new item, `\"cheesecake\"`for `8` dollars, we could use:\n",
    "```python\n",
    "menu[\"cheesecake\"] = 8\n",
    "```\n",
    "Now, `menu` looks like:\n",
    "```python\n",
    "{\"oatmeal\": 3, \"avocado toast\": 6, \"carrot juice\": 5, \"blueberry muffin\": 2, \"cheesecake\": 8}\n",
    "```"
   ]
  },
  {
   "cell_type": "code",
   "execution_count": 577,
   "metadata": {},
   "outputs": [
    {
     "name": "stdout",
     "output_type": "stream",
     "text": [
      "{'zebras': 8, 'monkeys': 12, 'dinosaurs': 0}\n"
     ]
    }
   ],
   "source": [
    "# 1.\n",
    "# Create an empty dictionary called animals_in_zoo.\n",
    "animals_in_zoo = {}\n",
    "\n",
    "\n",
    "# 2.\n",
    "# Walking around the zoo, you see 8 zebras. Add \"zebras\" to animals_in_zoo as a key with a value of 8.\n",
    "animals_in_zoo[\"zebras\"] = 8\n",
    "# 3.\n",
    "# The primate house was bananas! Add \"monkeys\" to animals_in_zoo as a key with a value of 12.\n",
    "\n",
    "animals_in_zoo[\"monkeys\"] = 12\n",
    "\n",
    "\n",
    "\n",
    "# 4.\n",
    "# As you leave the zoo, you are saddened that you did not see any dinosaurs. \n",
    "# Add \"dinosaurs\" to animals_in_zoo as a key with a value of 0.\n",
    "animals_in_zoo[\"dinosaurs\"] = 0\n",
    "\n",
    "\n",
    "\n",
    "# 5.\n",
    "# Print animals_in_zoo\n",
    "print(animals_in_zoo)"
   ]
  },
  {
   "cell_type": "markdown",
   "metadata": {},
   "source": [
    "## Add Multiple Keys\n",
    "If we wanted to add multiple key : value pairs to a dictionary at once, we can use the `.update()` method.\n",
    "\n",
    "Looking at our `sensors` object from the first exercise:\n",
    "```python\n",
    "sensors =  {\"living room\": 21, \"kitchen\": 23, \"bedroom\": 20}\n",
    "```\n",
    "If we wanted to add 3 new rooms, we could use:\n",
    "```python\n",
    "sensors.update({\"pantry\": 22, \"guest room\": 25, \"patio\": 34})\n",
    "```\n",
    "which would add all three items to the sensors dictionary. Now, sensors looks like:\n",
    "```python\n",
    " {\"living room\": 21, \"kitchen\": 23, \"bedroom\": 20, \"pantry\": 22, \"guest room\": 25, \"patio\": 34}\n",
    "```"
   ]
  },
  {
   "cell_type": "code",
   "execution_count": 578,
   "metadata": {},
   "outputs": [
    {
     "name": "stdout",
     "output_type": "stream",
     "text": [
      "{'teraCoder': 9018293, 'proProgrammer': 119238, 'theLooper': 138475, 'stringQueen': 85739}\n"
     ]
    }
   ],
   "source": [
    "user_ids = {\"teraCoder\": 9018293, \"proProgrammer\": 119238}\n",
    "\n",
    "# 1.\n",
    "# In one line of code, add two new users to the user_ids dictionary:\n",
    "\n",
    "# theLooper, with an id of 138475\n",
    "# stringQueen, with an id of 85739\n",
    "\n",
    "user_ids.update({\"theLooper\":138475, \"stringQueen\":85739 })\n",
    "\n",
    "# 2.\n",
    "# Print user_ids.\n",
    "print(user_ids)"
   ]
  },
  {
   "cell_type": "markdown",
   "metadata": {},
   "source": [
    "## Overwrite Values\n",
    "We know that we can add a key by using syntax like:\n",
    "```python\n",
    "menu['avocado toast'] = 7\n",
    "```\n",
    "which will create a key 'avocado toast' and set the value to 7. But what if we already have an 'avocado toast' entry in the menu dictionary?\n",
    "\n",
    "In that case, our value assignment would overwrite the existing value attached to the key 'avocado toast'.\n",
    "```python\n",
    "menu = {\"oatmeal\": 3, \"avocado toast\": 6, \"carrot juice\": 5, \"blueberry muffin\": 2}\n",
    "menu[\"oatmeal\"] = 5\n",
    "print(menu)\n",
    "```\n",
    "would yield:\n",
    "```python\n",
    "{\"oatmeal\": 5, \"avocado toast\": 6, \"carrot juice\": 5, \"blueberry muffin\": 2}\n",
    "```\n",
    "Notice the value of \"oatmeal\" has now changed to 5."
   ]
  },
  {
   "cell_type": "code",
   "execution_count": 579,
   "metadata": {},
   "outputs": [],
   "source": [
    "oscar_winners = {\"Best Picture\": \"La La Land\", \"Best Actor\": \"Casey Affleck\", \"Best Actress\": \"Emma Stone\", \"Animated Feature\": \"Zootopia\"}\n",
    "\n",
    "# 1.\n",
    "# Add the key \"Supporting Actress\" and set the value to \"Viola Davis\".\n",
    "oscar_winners[\"Supporting Actress\"] = \"Viola Davis\"\n",
    "\n",
    "# 2.\n",
    "# Without changing the definition of the dictionary oscar_winners, \n",
    "# change the value associated with the key \"Best Picture\" to \"Moonlight\".\n",
    "oscar_winners[\"Best Picture\"] = \"Moonlight\"\n"
   ]
  },
  {
   "cell_type": "markdown",
   "metadata": {},
   "source": [
    "##  List Comprehensions to Dictionaries\n",
    "Let's say we have two lists that we want to combine into a dictionary, like a list of students and a list of their heights, in inches:\n",
    "```python\n",
    "names = ['Jenny', 'Alexus', 'Sam', 'Grace']\n",
    "heights = [61, 70, 67, 64]\n",
    "```\n",
    "Python allows you to create a dictionary using a list comprehension, with this syntax:\n",
    "```\n",
    "students = {key:value for key, value in zip(names, heights)}\n",
    "#students is now {'Jenny': 61, 'Alexus': 70, 'Sam': 67, 'Grace': 64}\n",
    "```\n",
    "Remember that `zip()` combines two lists into a list of pairs. This list comprehension:\n",
    "\n",
    "1. Takes a pair from the zipped list of pairs from `names` and `heights`\n",
    "2. Names the elements in the pair `key` (the one originally from the `names` list) and `value` (the one originally from the heights list)\n",
    "3. Creates a `key : value` item in the `students` dictionary\n",
    "4. Repeats steps 1-3 for the entire list of pairs"
   ]
  },
  {
   "cell_type": "code",
   "execution_count": 580,
   "metadata": {},
   "outputs": [],
   "source": [
    "drinks = [\"espresso\", \"chai\", \"decaf\", \"drip\"]\n",
    "caffeine = [64, 40, 0, 120]\n",
    "\n",
    "# 1.\n",
    "# You have two lists, representing some drinks sold at a coffee shop and the milligrams of caffeine in each. First, \n",
    "# create a variable called zipped_drinks that is a list of pairs between the drinks list and the caffeine list.\n",
    "\n",
    "zipped_drinks = zip(drinks, caffeine)\n",
    "\n",
    "# 2.\n",
    "# Create a dictionary called drinks_to_caffeine by using a list comprehension that goes through the zipped_drinks list\n",
    "# and turns each pair into a key:value item.\n",
    "drinks_to_caffeine = {key:value for key, value in zipped_drinks}"
   ]
  },
  {
   "cell_type": "markdown",
   "metadata": {},
   "source": [
    "*** \n",
    "***\n",
    "\n",
    "### USING DICTIONARIES\n",
    "## Using Dictionaries\n",
    "Now that we know how to create a dictionary, we can start using already created dictionaries to solve problems.\n",
    "\n",
    "In this lesson, you'll learn how to:\n",
    "\n",
    "- Use a key to get a value from a dictionary\n",
    "- Check for existence of keys\n",
    "- Find the length of a dictionary\n",
    "- Iterate through keys and values in dictionaries"
   ]
  },
  {
   "cell_type": "markdown",
   "metadata": {},
   "source": [
    "## Get A Key\n",
    "Once you have a dictionary, you can access the values in it by providing the key. For example, let's imagine we have a dictionary that maps buildings to their heights, in meters:\n",
    "```python\n",
    "building_heights = {\"Burj Khalifa\": 828, \"Shanghai Tower\": 632, \"Abraj Al Bait\": 601, \"Ping An\": 599, \"Lotte World Tower\": 554.5, \"One World Trade\": 541.3}\n",
    "```\n",
    "Then we can access the data in it like this:\n",
    "```python\n",
    ">>> building_heights[\"Burj Khalifa\"]\n",
    "828\n",
    ">>> building_heights[\"Ping An\"]\n",
    "599\n",
    "```"
   ]
  },
  {
   "cell_type": "code",
   "execution_count": 581,
   "metadata": {},
   "outputs": [
    {
     "name": "stdout",
     "output_type": "stream",
     "text": [
      "['Taurus', 'Virgo', 'Capricorn']\n",
      "['Aries', 'Leo', 'Sagittarius']\n"
     ]
    }
   ],
   "source": [
    "zodiac_elements = {\"water\": [\"Cancer\", \"Scorpio\", \"Pisces\"], \"fire\": [\"Aries\", \"Leo\", \"Sagittarius\"], \"earth\": [\"Taurus\", \"Virgo\", \"Capricorn\"], \"air\":[\"Gemini\", \"Libra\", \"Aquarius\"]}\n",
    "\n",
    "\n",
    "# We have provided a dictionary that maps the elements of astrology to the zodiac signs. \n",
    "# Print out the list of zodiac signs associated with the \"earth\" element.\n",
    "\n",
    "print(zodiac_elements[\"earth\"])\n",
    "\n",
    "# Print out the list of the \"fire\" signs.\n",
    "\n",
    "print(zodiac_elements[\"fire\"])\n"
   ]
  },
  {
   "cell_type": "markdown",
   "metadata": {},
   "source": [
    "## Get an Invalid Key\n",
    "Let's say we have our dictionary of building heights from the last exercise:\n",
    "```python\n",
    "building_heights = {\"Burj Khalifa\": 828, \"Shanghai Tower\": 632, \"Abraj Al Bait\": 601, \"Ping An\": 599, \"Lotte World Tower\": 554.5, \"One World Trade\": 541.3}\n",
    "```\n",
    "What if we wanted to know the height of the Landmark 81 in Ho Chi Minh City? We could try:\n",
    "```python\n",
    "print(building_heights[\"Landmark 81\"])\n",
    "```\n",
    "But \"Landmark 81\" does not exist as a key in the building_heights dictionary! So this will throw a KeyError:\n",
    "```\n",
    "KeyError: 'Landmark 81'\n",
    "```\n",
    "One way to avoid this error is to first check if the key exists in the dictionary:\n",
    "```python\n",
    "key_to_check = \"Landmark 81\"\n",
    "\n",
    "if key_to_check in building_heights:\n",
    "  print(building_heights[\"Landmark 81\"])\n",
    "```\n",
    "This will not throw an error, because key_to_check in building_heights will return False, and so we never try to access the key."
   ]
  },
  {
   "cell_type": "code",
   "execution_count": 582,
   "metadata": {},
   "outputs": [
    {
     "name": "stdout",
     "output_type": "stream",
     "text": [
      "Not a Zodiac element\n"
     ]
    }
   ],
   "source": [
    "zodiac_elements = {\"water\": [\"Cancer\", \"Scorpio\", \"Pisces\"], \"fire\": [\"Aries\", \"Leo\", \"Sagittarius\"], \"earth\": [\"Taurus\", \"Virgo\", \"Capricorn\"], \"air\":[\"Gemini\", \"Libra\", \"Aquarius\"]}\n",
    "\n",
    "\n",
    "\n",
    "# Run the code. It should throw a KeyError! \"energy\" does not exist as one of the elements.\n",
    "\n",
    "zodiac_elements[\"energy\"]=\"Not a Zodiac element\"\n",
    "\n",
    "# Add the key \"energy\" to the zodiac_elements. \n",
    "# It should map to a value of \"Not a Zodiac element\". Run the code. Did this resolve the KeyError? (only if you print it after)\n",
    "print(zodiac_elements[\"energy\"])\n"
   ]
  },
  {
   "cell_type": "markdown",
   "metadata": {},
   "source": [
    "## Try/Except to Get a Key\n",
    "We saw that we can avoid KeyErrors by checking if a key is in a dictionary first. Another method we could use is a try/except:\n",
    "```python\n",
    "key_to_check = \"Landmark 81\"\n",
    "try:\n",
    "  print(building_heights[key_to_check])\n",
    "except KeyError:\n",
    "  print(\"That key doesn't exist!\")\n",
    "```\n",
    "When we try to access a key that doesn't exist, the program will go into the except block and print \"That key doesn't exist!\"."
   ]
  },
  {
   "cell_type": "code",
   "execution_count": 583,
   "metadata": {},
   "outputs": [
    {
     "name": "stdout",
     "output_type": "stream",
     "text": [
      "30\n"
     ]
    }
   ],
   "source": [
    "caffeine_level = {\"espresso\": 64, \"chai\": 40, \"decaf\": 0, \"drip\": 120}\n",
    "# Use a try block to try to print the caffeine level of \"matcha\". If there is a KeyError, print \"Unknown Caffeine Level\".\n",
    "\n",
    "caffeine_level[\"matcha\"]=30\n",
    "\n",
    "key_to_check = \"matcha\"\n",
    "try:\n",
    "  print(caffeine_level[key_to_check])\n",
    "except KeyError:\n",
    "  print(\"Unknown Caffeine Level\")\n",
    "\n",
    "# Above the try block, add \"matcha\" to the dictionary with a value of 30."
   ]
  },
  {
   "cell_type": "markdown",
   "metadata": {},
   "source": [
    "## Safely Get a Key\n",
    "We saw in the last exercise that we had to add a key:value pair to a dictionary in order to avoid a KeyError. This solution is not sustainable. We can't predict every key a user may call and add all of those placeholder values to our dictionary!\n",
    "\n",
    "Dictionaries have a .get() method to search for a value instead of the my_dict[key] notation we have been using. If the key you are trying to .get() does not exist, it will return None by default:\n",
    "```python\n",
    "building_heights = {\"Burj Khalifa\": 828, \"Shanghai Tower\": 632, \"Abraj Al Bait\": 601, \"Ping An\": 599, \"Lotte World Tower\": 554.5, \"One World Trade\": 541.3}\n",
    "\n",
    "#this line will return 632:\n",
    "building_heights.get(\"Shanghai Tower\")\n",
    "\n",
    "#this line will return None:\n",
    "building_heights.get(\"My House\")\n",
    "```\n",
    "You can also specify a value to return if the key doesn't exist. For example, we might want to return a building height of 0 if our desired building is not in the dictionary:\n",
    "```\n",
    ">>> building_heights.get('Shanghai Tower', 0)\n",
    "632\n",
    ">>> building_heights.get('Mt Olympus', 0)\n",
    "0\n",
    ">>> building_heights.get('Kilimanjaro', 'No Value')\n",
    "'No Value'\n",
    "```"
   ]
  },
  {
   "cell_type": "code",
   "execution_count": 584,
   "metadata": {},
   "outputs": [
    {
     "name": "stdout",
     "output_type": "stream",
     "text": [
      "100019\n",
      "100000\n"
     ]
    }
   ],
   "source": [
    "user_ids = {\"teraCoder\": 100019, \"pythonGuy\": 182921, \"samTheJavaMaam\": 123112, \"lyleLoop\": 102931, \"keysmithKeith\": 129384}\n",
    "# Use .get() to get the value of \"teraCoder\"'s user ID, with 100000 as a default value if the user doesn't exist. \n",
    "# Store it in a variable called tc_id. Print tc_id to the console.\n",
    "\n",
    "tc_id = user_ids.get(\"teraCoder\", 100000)\n",
    "print(tc_id)             \n",
    "\n",
    "# Use .get() to get the value of \"superStackSmash\"'s user ID, with 100000 as a default value if the user doesn't exist. \n",
    "# Store it in a variable called stack_id. Print stack_id to the console.\n",
    "stack_id = user_ids.get(\"superStackSmash\", 100000)\n",
    "print(stack_id)\n"
   ]
  },
  {
   "cell_type": "markdown",
   "metadata": {},
   "source": [
    "## Delete a Key\n",
    "Sometimes we want to get a key and remove it from the dictionary. Imagine we were running a raffle, and we have this dictionary mapping ticket numbers to prizes:\n",
    "```python\n",
    "raffle = {223842: \"Teddy Bear\", 872921: \"Concert Tickets\", 320291: \"Gift Basket\", 412123: \"Necklace\", 298787: \"Pasta Maker\"}\n",
    "```\n",
    "When we get a ticket number, we want to return the prize and also remove that pair from the dictionary, since the prize has been given away. We can use .pop() to do this. Just like with .get(), we can provide a default value to return if the key does not exist in the dictionary:\n",
    "```python\n",
    ">>> raffle.pop(320291, \"No Prize\")\n",
    "\"Gift Basket\"\n",
    ">>> raffle\n",
    "{223842: \"Teddy Bear\", 872921: \"Concert Tickets\", 412123: \"Necklace\", 298787: \"Pasta Maker\"}\n",
    ">>> raffle.pop(100000, \"No Prize\")\n",
    "\"No Prize\"\n",
    ">>> raffle\n",
    "{223842: \"Teddy Bear\", 872921: \"Concert Tickets\", 412123: \"Necklace\", 298787: \"Pasta Maker\"}\n",
    ">>> raffle.pop(872921, \"No Prize\")\n",
    "\"Concert Tickets\"\n",
    ">>> raffle\n",
    "{223842: \"Teddy Bear\", 412123: \"Necklace\", 298787: \"Pasta Maker\"}\n",
    "```\n",
    "`.pop()` works to delete items from a dictionary, when you know the key value."
   ]
  },
  {
   "cell_type": "code",
   "execution_count": 585,
   "metadata": {},
   "outputs": [
    {
     "name": "stdout",
     "output_type": "stream",
     "text": [
      "{'health potion': 10, 'cake of the cure': 5, 'green elixir': 20, 'strength sandwich': 25}\n",
      "65\n"
     ]
    }
   ],
   "source": [
    "available_items = {\"health potion\": 10, \"cake of the cure\": 5, \"green elixir\": 20, \"strength sandwich\": 25, \"stamina grains\": 15, \"power stew\": 30}\n",
    "health_points = 20\n",
    "\n",
    "\n",
    "# You are designing the video game Big Rock Adventure. \n",
    "# We have provided a dictionary of items in the player's inventory to add points to their health meter. \n",
    "# In one line, add the value of \"stamina grains\" to health_points and remove the item from the dictionary. \n",
    "# If the key does not exist, add 0 to health_points.\n",
    "\n",
    "health_points += available_items.pop(\"stamina grains\", 0)\n",
    "\n",
    "\n",
    "# In one line, add the value of \"power stew\" to health_points and remove the item from the dictionary. \n",
    "# If the key does not exist, add 0 to health_points.\n",
    "\n",
    "health_points += available_items.pop(\"power stew\", 0)\n",
    "\n",
    "\n",
    "\n",
    "# In one line, add the value of \"mystic bread\" to health_points and remove the item from the dictionary. \n",
    "# If the key does not exist, add 0 to health_points.\n",
    "health_points += available_items.pop(\"power stew\", 0)\n",
    "\n",
    "\n",
    "print(available_items)\n",
    "print(health_points)\n",
    "# Print available_items and health_points."
   ]
  },
  {
   "cell_type": "markdown",
   "metadata": {},
   "source": [
    "## Get All Keys\n",
    "Sometimes we want to operate on all of the keys in a dictionary. For example, if we have a dictionary of students in a math class and their grades:\n",
    "```python\n",
    "test_scores = {\"Grace\":[80, 72, 90], \"Jeffrey\":[88, 68, 81], \"Sylvia\":[80, 82, 84], \"Pedro\":[98, 96, 95], \"Martin\":[78, 80, 78], \"Dina\":[64, 60, 75]}\n",
    "```\n",
    "We want to get a roster of the students in the class, without including their grades. We can do this with the built-in list() function:\n",
    "```python\n",
    ">>> list(test_scores)\n",
    "[\"Grace\", \"Jeffrey\", \"Sylvia\", \"Pedro\", \"Martin\", \"Dina\"]\n",
    "```\n",
    "Dictionaries also have a .keys() method that returns a dict_keys object. A dict_keys object is a view object, which provides a look at the current state of the dicitonary, without the user being able to modify anything. The dict_keys object returned by .keys() is a set of the keys in the dictionary. You cannot add or remove elements from a dict_keys object, but it can be used in the place of a list for iteration:\n",
    "```python\n",
    "for student in test_scores.keys():\n",
    "  print(student)\n",
    "```\n",
    "will yield:\n",
    "```\n",
    "\"Grace\"\n",
    "\"Jeffrey\"\n",
    "\"Sylvia\"\n",
    "\"Pedro\"\n",
    "\"Martin\"\n",
    "\"Dina\"\n",
    "```"
   ]
  },
  {
   "cell_type": "code",
   "execution_count": 586,
   "metadata": {},
   "outputs": [
    {
     "name": "stdout",
     "output_type": "stream",
     "text": [
      "['teraCoder', 'pythonGuy', 'samTheJavaMaam', 'lyleLoop', 'keysmithKeith']\n",
      "['functions', 'syntax', 'control flow', 'loops', 'lists', 'classes', 'dictionaries']\n"
     ]
    }
   ],
   "source": [
    "user_ids = {\"teraCoder\": 100019, \"pythonGuy\": 182921, \"samTheJavaMaam\": 123112, \"lyleLoop\": 102931, \"keysmithKeith\": 129384}\n",
    "num_exercises = {\"functions\": 10, \"syntax\": 13, \"control flow\": 15, \"loops\": 22, \"lists\": 19, \"classes\": 18, \"dictionaries\": 18}\n",
    "\n",
    "\n",
    "# Create a variable called users and assign it to be all of the keys of the user_ids list.\n",
    "users = []\n",
    "for keys in user_ids.keys():\n",
    "  users.append(keys)\n",
    "\n",
    "# Create a variable called lessons and assign it to be all of the keys of the num_exercises list.\n",
    "\n",
    "lessons = []\n",
    "for keys in num_exercises.keys():\n",
    "  lessons.append(keys)\n",
    "\n",
    "# Print users to the console.\n",
    "\n",
    "print(users)\n",
    "\n",
    "\n",
    "# Print lessons to the console.\n",
    "\n",
    "print(lessons)"
   ]
  },
  {
   "cell_type": "markdown",
   "metadata": {},
   "source": [
    "## Get All Values\n",
    "Dictionaries have a .values() method that returns a dict_values object (just like a dict_keys object but for values!) with all of the values in the dictionary. It can be used in the place of a list for iteration:\n",
    "```python\n",
    "\n",
    "test_scores = {\"Grace\":[80, 72, 90], \"Jeffrey\":[88, 68, 81], \"Sylvia\":[80, 82, 84], \"Pedro\":[98, 96, 95], \"Martin\":[78, 80, 78], \"Dina\":[64, 60, 75]}\n",
    "\n",
    "for score_list in test_scores.values():\n",
    "  print(score_list)\n",
    "```\n",
    "will yield:\n",
    "```\n",
    "[80, 72, 90]\n",
    "[88, 68, 81]\n",
    "[80, 82, 84]\n",
    "[98, 96, 95]\n",
    "[78, 80, 78]\n",
    "[64, 60, 75]\n",
    "```\n",
    "There is no built-in function to get all of the values as a list, but if you really want to, you can use:\n",
    "```python\n",
    "list(test_scores.values())\n",
    "```\n",
    "However, for most purposes, the dict_list object will act the way you want a list to act."
   ]
  },
  {
   "cell_type": "code",
   "execution_count": 587,
   "metadata": {},
   "outputs": [
    {
     "name": "stdout",
     "output_type": "stream",
     "text": [
      "115\n"
     ]
    }
   ],
   "source": [
    "\n",
    "num_exercises = {\"functions\": 10, \"syntax\": 13, \"control flow\": 15, \"loops\": 22, \"lists\": 19, \"classes\": 18, \"dictionaries\": 18}\n",
    "# Create a variable called total_exercises and set it equal to 0.\n",
    "total_exercises = 0 \n",
    "# Iterate through the values in the num_exercises list and add each value to the total_exercises variable.\n",
    "for value in num_exercises.values():\n",
    "    total_exercises += value\n",
    "\n",
    "# Print the total_exercises variable to the console.\n",
    "print(total_exercises)"
   ]
  },
  {
   "cell_type": "markdown",
   "metadata": {},
   "source": [
    "## Get All Items\n",
    "You can get both the keys and the values with the .items() method. Like .keys() and .values(), it returns a dict_list object. Each element of the dict_list returned by .items() is a tuple consisting of:\n",
    "```python\n",
    "(key, value)\n",
    "```\n",
    "so to iterate through, you can use this syntax:\n",
    "```python\n",
    "biggest_brands = {\"Apple\": 184, \"Google\": 141.7, \"Microsoft\": 80, \"Coca-Cola\": 69.7, \"Amazon\": 64.8}\n",
    "\n",
    "for company, value in biggest_brands.items():\n",
    "  print(company + \" has a value of \" + str(value) + \" billion dollars. \")\n",
    "```\n",
    "which would yield this output:\n",
    "```\n",
    "Apple has a value of 184 billion dollars.\n",
    "Google has a value of 141.7 billion dollars.\n",
    "Microsoft has a value of 80 billion dollars.\n",
    "Coca-Cola has a value of 69.7 billion dollars.\n",
    "Amazon has a value of 64.8 billion dollars.\n",
    "```"
   ]
  },
  {
   "cell_type": "code",
   "execution_count": 589,
   "metadata": {},
   "outputs": [
    {
     "name": "stdout",
     "output_type": "stream",
     "text": [
      "Women make up 28 percent of CEOs.\n",
      "Women make up 9 percent of Engineering Managers.\n",
      "Women make up 58 percent of Pharmacists.\n",
      "Women make up 40 percent of Physicians.\n",
      "Women make up 37 percent of Lawyers.\n",
      "Women make up 9 percent of Aerospace Engineers.\n"
     ]
    }
   ],
   "source": [
    "pct_women_in_occupation = {\"CEO\": 28, \"Engineering Manager\": 9, \"Pharmacist\": 58, \"Physician\": 40, \"Lawyer\": 37, \"Aerospace Engineer\": 9}\n",
    "\n",
    "# Use a for loop to iterate through the items of pct_women_in_occupation. \n",
    "# For each key : value pair, print out a string that looks like:\n",
    "\n",
    "for title, value in pct_women_in_occupation.items():\n",
    "  print(\"Women make up \" + str(value) + \" percent of \" + title + \"s.\")\n"
   ]
  },
  {
   "cell_type": "markdown",
   "metadata": {},
   "source": [
    "***\n",
    "***\n",
    "### LEARN PYTHON: FILES\n",
    "## Reading a File\n",
    "Computers use file systems to store and retrieve data. Each file is an individual container of related information. If you've ever saved a document, downloaded a song, or even sent an email you've created a file on some computer somewhere. Even Lab2, the Python program you're editing in the learning environment, is a file.\n",
    "\n",
    "So, how do we interact with files using Python? We're going to learn how to read and write different kinds of files using code. Let's say we had a file called real_cool_document.txt with these contents:\n",
    "\n",
    "**real_cool_document.txt**\n",
    "```\n",
    "Wowsers!\n",
    "```\n",
    "We could read that file like this:\n",
    "\n",
    "```python\n",
    "with open('real_cool_document.txt') as cool_doc:\n",
    "  cool_contents = cool_doc.read()\n",
    "print(cool_contents)\n",
    "```\n",
    "\n",
    "This opens a file object called `cool_doc` and creates a new indented block where you can read the contents of the opened file. We then read the contents of the file `cool_doc` using `cool_doc.read()` and save the resulting string into the variable `cool_contents`. Then we print `cool_contents`, which outputs the statement `Wowsers!`."
   ]
  },
  {
   "cell_type": "code",
   "execution_count": 590,
   "metadata": {},
   "outputs": [
    {
     "name": "stdout",
     "output_type": "stream",
     "text": [
      "Congratulations on reading your first file!\n"
     ]
    }
   ],
   "source": [
    "# Download welcome.txt from Canvas\n",
    "# Use with to open the file welcome.txt. Save the file object as text_file.\n",
    "# Read the contents of text_file and save the results in text_data.\n",
    "with open('welcome.txt') as text_file:\n",
    "  text_data = text_file.read()\n",
    "print(text_data)\n",
    "\n",
    "# Print out text_data."
   ]
  },
  {
   "cell_type": "markdown",
   "metadata": {},
   "source": [
    "## Iterating Through Lines\n",
    "When we read a file, we might want to grab the whole document in a single string, like .read() would return. But what if we wanted to store each line in a variable? We can use the .readlines() function to read a text file line by line instead of having the whole thing. Suppose we have a file:\n",
    "```\n",
    "keats_sonnet.txt\n",
    "```\n",
    "```\n",
    "To one who has been long in city pent,\n",
    "’Tis very sweet to look into the fair\n",
    "And open face of heaven,—to breathe a prayer\n",
    "Full in the smile of the blue firmament.\n",
    "```\n",
    "\n",
    "```python \n",
    "with open('keats_sonnet.txt') as keats_sonnet:\n",
    "  for line in keats_sonnet.readlines():\n",
    "    print(line)\n",
    "```    \n",
    "The above script creates a temporary file object called keats_sonnet that points to the file `keats_sonnet.txt`. It then iterates over each line in the document and prints the entire file out."
   ]
  },
  {
   "cell_type": "code",
   "execution_count": 591,
   "metadata": {},
   "outputs": [
    {
     "name": "stdout",
     "output_type": "stream",
     "text": [
      "1. How many lines do we write on the daily,\n",
      "\n",
      "2. Many money, we write many many many\n",
      "\n",
      "3. How many lines do you write on the daily,\n",
      "\n",
      "4. Say you say many money, you write many many many\n",
      "\n"
     ]
    }
   ],
   "source": [
    "# download \"how_many_lines.txt\" from Canvas\n",
    "# Using a with statement, create a file object pointing to the file how_many_lines.txt. \n",
    "# Store that file object in the variable lines_doc.\n",
    "with open('how_many_lines.txt') as lines_doc:\n",
    "  for line in lines_doc.readlines():\n",
    "    print(line)\n",
    "\n",
    "# Iterate through each of the lines in lines_doc.readlines() using a for loop.\n",
    "# Inside the for loop print out each line of how_many_lines.txt.\n"
   ]
  },
  {
   "cell_type": "markdown",
   "metadata": {},
   "source": [
    "## Reading a Line\n",
    "Sometimes you don't want to iterate through a whole file. For that, there's a different file method, `.readline()`, which will only read a single line at a time. If the entire document is read line by line in this way subsequent calls to `.readline()` will not throw an error but will start returning an empty string (`\"\"`). Suppose we had this file:\n",
    "```\n",
    "millay_sonnet.txt\n",
    "```\n",
    "```\n",
    "I shall forget you presently, my dear,\n",
    "So make the most of this, your little day,\n",
    "Your little month, your little half a year,\n",
    "Ere I forget, or die, or move away,\n",
    "```\n",
    "\n",
    "```python\n",
    "\n",
    "with open('millay_sonnet.txt') as sonnet_doc:\n",
    "  first_line = sonnet_doc.readline()\n",
    "  second_line = sonnet_doc.readline()\n",
    "  print(second_line)\n",
    "```\n",
    "This script also creates a file object called `sonnet_doc` that points to the file `millay_sonnet.txt`. It then reads in the first line using `sonnet_doc.readline()` and saves that to the variable `first_line`. It then saves the second line (`So make the most of this, your little day,`) into the variable `second_line` and then prints it out."
   ]
  },
  {
   "cell_type": "code",
   "execution_count": 593,
   "metadata": {},
   "outputs": [
    {
     "name": "stdout",
     "output_type": "stream",
     "text": [
      "Line 1: You do look, my son, in a moved sort,\n",
      "\n"
     ]
    }
   ],
   "source": [
    "# download just_the_first.txt from canvas\n",
    "# Using a with statement, create a file object pointing to the file just_the_first.txt. \n",
    "# Store that file object in the variable first_line_doc.\n",
    "# Save the first line of just_the_first.txt into the variable first_line.\n",
    "# Print out the variable first_line.\n",
    "\n",
    "with open('just_the_first.txt') as first_line_doc:\n",
    "  first_line = first_line_doc.readline()\n",
    "  print(first_line)\n"
   ]
  },
  {
   "cell_type": "markdown",
   "metadata": {},
   "source": [
    "## Writing a File\n",
    "Reading a file is all well and good, but what if we want to create a file of our own? With Python we can do just that. It turns out that our `open()` function that we're using to open a file to read needs another argument to open a file to write to.\n",
    "\n",
    "```python\n",
    "with open('generated_file.txt', 'w') as gen_file:\n",
    "  gen_file.write(\"What an incredible file!\")\n",
    "```  \n",
    "Here we pass the argument `'w'` to open() in order to indicate to open the file in write-mode. The default argument is `'r'` and passing `'r'` to `open()` opens the file in read-mode as we've been doing.\n",
    "\n",
    "This code creates a new file in the same folder as script.py and gives it the text `What an incredible file!`. It's important to note that **if there is already a file called generated_file.txt it will completely overwrite that file**, erasing whatever its contents were before."
   ]
  },
  {
   "cell_type": "code",
   "execution_count": 594,
   "metadata": {},
   "outputs": [],
   "source": [
    "# Download bad_bands.txt\n",
    "# Create a file object for the file bad_bands.txt using the open() function with the w argument. \n",
    "# Assign this object to the temporary variable bad_bands_doc.\n",
    "# Use the bad_bands_doc.write() method to add the name of a musical group you dislike to the document bad_bands.\n",
    "with open('bad_bands.txt', 'w') as bad_bands_doc:\n",
    "  bad_bands_doc.write(\"Nickleback\")\n",
    "\n",
    "# check your directory. Do you have \"bad_bands.txt\" Yes."
   ]
  },
  {
   "cell_type": "markdown",
   "metadata": {},
   "source": [
    "## Appending to a File\n",
    "So maybe completely deleting and overwriting existing files is something that bothers you. Isn't there a way to just add a line to a file without completely deleting it? Of course there is! Instead of opening the file using the argument `'w'` for write-mode, we open it with `'a'` for append-mode. If we have a generated file with the following contents:\n",
    "```\n",
    "generated_file.txt\n",
    "```\n",
    "```\n",
    "This was a popular file...\n",
    "```\n",
    "Then we can add another line to that file with the following code:\n",
    "\n",
    "```python\n",
    "\n",
    "with open('generated_file.txt', 'a') as gen_file:\n",
    "  gen_file.write(\"... and it still is\")\n",
    "```\n",
    "In the code above we open a file object in the temporary variable gen_file. This variable points to the file generated_file.txt and, since it's open in append-mode, adds the line ... and it still is as a new line to the file. If you were to open the file after running the script it would look like this:\n",
    "```\n",
    "generated_file.txt\n",
    "```\n",
    "\n",
    "```\n",
    "This was a popular file...\n",
    "... and it still is\n",
    "```\n",
    "Notice that opening the file in append-mode, with 'a' as an argument to open(), means that using the file object's .write() method appends whatever is passed to the end of the file in a new line. If we were to run it again, this would be what generated_file.txt looks like:\n",
    "```\n",
    "generated_file.txt\n",
    "```\n",
    "\n",
    "```\n",
    "This was a popular file...\n",
    "... and it still is\n",
    "... and it still is\n",
    "```\n",
    "Notice that we've appended `\"... and it still is\"` to the file a second time! This is because we opened generated_file.txt in append-mode."
   ]
  },
  {
   "cell_type": "code",
   "execution_count": 595,
   "metadata": {},
   "outputs": [],
   "source": [
    "# We've got a file, cool_dogs.txt (download from Canvas), filled with all the cool dogs we know. \n",
    "# Somehow while compiling this list we forgot about one very cool dog. Let's fix that problem by adding him to our cool_dogs.txt.\n",
    "# Open up our file cool_dogs.txt in append-mode and assign it to the file object cool_dogs_file.\n",
    "# Inside your with block, add \"Air Buddy\" to cool_dogs.txt. Air Buddy is a Golden Retriever that plays basketball, \n",
    "# which more than qualifies him for this list.\n",
    "\n",
    "with open('cool_dogs.txt', 'a') as cool_dogs_file:\n",
    "  cool_dogs_file.write(\"Air Buddy\")"
   ]
  },
  {
   "cell_type": "markdown",
   "metadata": {},
   "source": [
    "## What's With \"with\"?\n",
    "We've been opening these files with this with block so far, but it seems a little weird that we can only use our file variable in the indented block. Why is that? The with keyword invokes something called a context manager for the file that we're calling open() on. This context manager takes care of opening the file when we call open() and then closing the file after we leave the indented block.\n",
    "\n",
    "Why is closing the file so complicated? Well, most other aspects of our code deal with things that Python itself controls. All the variables you create: integers, lists, dictionaries — these are all Python objects, and Python knows how to clean them up when it's done with them. Since your files exist outside your Python script, we need to tell Python when we're done with them so that it can close the connection to that file. Leaving a file connection open unnecessarily can affect performance or impact other programs on your computer that might be trying to access that file.\n",
    "\n",
    "The with syntax replaces older ways to access files where you need to call .close() on the file object manually. We can still open up a file and append to it with the old syntax, as long as we remember to close the file connection afterwards.\n",
    "```python\n",
    "fun_cities_file = open('fun_cities.txt', 'a')\n",
    "\n",
    "# We can now append a line to \"fun_cities\".\n",
    "fun_cities_file.write(\"Montréal\")\n",
    "\n",
    "# But we need to remember to close the file\n",
    "fun_cities_file.close()\n",
    "```\n",
    "In the above script we added \"Montréal\" as a new line in our file fun_cities.txt. However, since we used the older-style syntax, we had to remember to close the file afterwards. Since this is necessarily more verbose (requires at least one more line of code) without being any more expressive, using with is preferred."
   ]
  },
  {
   "cell_type": "code",
   "execution_count": 596,
   "metadata": {},
   "outputs": [
    {
     "name": "stdout",
     "output_type": "stream",
     "text": [
      "What did the pirate say when he turned 80?\n"
     ]
    }
   ],
   "source": [
    "with open('fun_file.txt') as close_this_file:\n",
    "  setup = close_this_file.readline()\n",
    "  punchline = close_this_file.readline()\n",
    "\n",
    "print(setup)\n",
    "\n",
    "# download fun_file.txt from Canvas\n",
    "# there's a file object that doesn't get closed correctly. Let's fix it by changing the syntax!\n",
    "\n",
    "# Remove this line:\n",
    "# close_this_file = open('fun_file.txt')\n",
    "# And change it to use the with syntax from our previous exercises.\n",
    "# Remember to indent the rest of the body so that we don't get an IndentError."
   ]
  },
  {
   "cell_type": "markdown",
   "metadata": {},
   "source": [
    "## What Is a CSV File?\n",
    "Text files aren't the only thing that Python can read, but they're the only thing that we don't any need additional parsing library to understand. CSV files are an example of a text file that impose a structure to their data. CSV stands for Comma-Separated Values and CSV files are usually the way that data from spreadsheet software (like Microsoft Excel or Google Sheets) is exported into a portable format. A spreadsheet that looks like the following  \n",
    "\n",
    "| Name           | Username      | Email                  |\n",
    "|----------------|---------------|------------------------|\n",
    "| Roger Smith    | rsmith        | wigginsryan@yahoo.com  |\n",
    "| Michelle Beck  | mlbeck        | hcosta@hotmail.com     |\n",
    "| Ashley Barker  | a_bark_x      | a_bark_x@turner.com    |\n",
    "| Lynn Gonzales  | goodmanjames  | lynniegonz@hotmail.com |\n",
    "| Jennifer Chase | chasej        | jchase@ramirez.com     |\n",
    "| Charles Hoover | choover       | choover89@yahoo.com    |\n",
    "| Adrian Evans   | adevans       | adevans98@yahoo.com    |\n",
    "| Susan Walter   | susan82       | swilliams@yahoo.com    |\n",
    "| Stephanie King | stephanieking | sking@morris-tyler.com |\n",
    "| Erika Miller   | jessica32     | ejmiller79@yahoo.com   |\n",
    "\n",
    "In a CSV file that same exact data would be rendered like this:\n",
    "\n",
    "```\n",
    "users.csv\n",
    "```\n",
    "```\n",
    "Name,Username,Email\n",
    "Roger Smith,rsmith,wigginsryan@yahoo.com\n",
    "Michelle Beck,mlbeck,hcosta@hotmail.com\n",
    "Ashley Barker,a_bark_x,a_bark_x@turner.com\n",
    "Lynn Gonzales,goodmanjames,lynniegonz@hotmail.com\n",
    "Jennifer Chase,chasej,jchase@ramirez.com\n",
    "Charles Hoover,choover,choover89@yahoo.com\n",
    "Adrian Evans,adevans,adevans98@yahoo.com\n",
    "Susan Walter,susan82,swilliams@yahoo.com\n",
    "Stephanie King,stephanieking,sking@morris-tyler.com\n",
    "Erika Miller,jessica32,ejmiller79@yahoo.com\n",
    "```\n",
    "Notice that the first row of the CSV file doesn't actually represent any data, just the labels of the data that's present in the rest of the file. The rest of the rows of the file are the same as the rows in the spreadsheet software, just instead of being separated into different cells they're separated by… well I suppose it's fair to say they're separated by commas."
   ]
  },
  {
   "cell_type": "code",
   "execution_count": 597,
   "metadata": {},
   "outputs": [
    {
     "name": "stdout",
     "output_type": "stream",
     "text": [
      "time,address,limit\n",
      "08:39:37,1.227.124.181,844404\n",
      "13:13:35,198.51.139.193,543871\n",
      "19:40:45,172.1.254.208,3021\n",
      "18:57:16,172.58.247.219,67031769\n",
      "21:17:13,124.144.20.113,9083\n",
      "23:34:17,203.236.149.220,65913\n",
      "13:58:05,192.52.206.76,1541474\n",
      "10:52:00,104.47.149.93,11465607\n",
      "14:56:12,192.31.185.7,109\n",
      "18:56:35,2.228.164.197,6207\n",
      "\n"
     ]
    }
   ],
   "source": [
    "# CSV files are just plain text files!\n",
    "# Download logger.csv from Canvas\n",
    "# Open logger.csv using our standard with syntax, saving the file object in the temporary variable log_csv_file.\n",
    "with open('logger.csv') as log_csv_file:\n",
    "  log_csv = log_csv_file.read()\n",
    "\n",
    "print(log_csv)\n",
    "\n",
    "# Print out the contents of logger.csv by calling .read() on the file. Notice that it is parsed as a string."
   ]
  },
  {
   "cell_type": "markdown",
   "metadata": {},
   "source": [
    "## Reading a CSV File\n",
    "Recall our CSV file from our last exercise:\n",
    "```\n",
    "users.csv\n",
    "```\n",
    "```\n",
    "Name,Username,Email\n",
    "Roger Smith,rsmith,wigginsryan@yahoo.com\n",
    "Michelle Beck,mlbeck,hcosta@hotmail.com\n",
    "Ashley Barker,a_bark_x,a_bark_x@turner.com\n",
    "Lynn Gonzales,goodmanjames,lynniegonz@hotmail.com\n",
    "```\n",
    "Even though we can read these lines as text without a problem, there are ways to access the data in a format better suited for programming purposes. In Python we can convert that data into a dictionary using the csv library's DictReader object. Here's how we'd create a list of the email addresses of all of the users in the above table:\n",
    "```python\n",
    "import csv\n",
    "\n",
    "list_of_email_addresses = []\n",
    "with open('users.csv', newline='') as users_csv:\n",
    "  user_reader = csv.DictReader(users_csv)\n",
    "  for row in user_reader:\n",
    "    list_of_email_addresses.append(row['Email'])\n",
    "```\n",
    "In the above code we first import our `csv` library, which gives us the tools to parse our CSV file. We then create the empty list `list_of_email_addresses` which we'll later populate with the email addresses from our CSV. Then we open the users.csv file with the temporary variable users_csv.\n",
    "\n",
    "We pass the additional keyword argument newline='' to the file opening open() function so that we don't accidentally mistake a line break in one of our data fields as a new row in our CSV (read more about this in the [Python documentation](https://docs.python.org/3/library/csv.html#id3)).\n",
    "\n",
    "After opening our new CSV file we use csv.DictReader(users_csv) which converts the lines of our CSV file to Python dictionaries which we can use access methods for. The keys of the dictionary are, by default, the entries in the first line of our CSV file. Since our CSV's first line calls the third field in our CSV \"Email\", we can use that as the key in each row of our DictReader.\n",
    "\n",
    "When we iterate through the rows of our user_reader object, we access all of the rows in our CSV as dictionaries (except for the first row, which we used to label the keys of our dictionary). By accessing the 'Email' key of each of these rows we can grab the email address in that row and append it to our list_of_email_addresses.\n"
   ]
  },
  {
   "cell_type": "code",
   "execution_count": 598,
   "metadata": {},
   "outputs": [
    {
     "name": "stdout",
     "output_type": "stream",
     "text": [
      "Has never been out of the country.\n",
      "Published a small biography on a local legend.\n",
      "Happened across a major movie star while biking once.\n",
      "Once ate three packages of cookies in one sitting.\n",
      "Has been to over fifteen different forests.\n",
      "Old job was across the street from their new job.\n",
      "Has a dog named Peanut.\n",
      "While working a phone bank accidentally called their mother.\n",
      "Can whistle the national anthem of twelve different nations.\n",
      "Is triple-jointed.\n"
     ]
    }
   ],
   "source": [
    "# Import the csv module.\n",
    "import csv\n",
    "# Open up the file cool_csv.csv (download from Canvas) in the temporary variable cool_csv_file.\n",
    "# Using csv.DictReader read the contents of cool_csv_file into a new variable called cool_csv_dict.\n",
    "\n",
    "with open('cool_csv.csv', newline='') as cool_csv_file:\n",
    "  cool_csv_dict = csv.DictReader(cool_csv_file)\n",
    "\n",
    "\n",
    "\n",
    "# cool_csv.csv includes a cool fact about every person in the CSV.\n",
    "\n",
    "  for row in cool_csv_dict:\n",
    "   print(row['Cool Fact'])\n",
    "\n",
    "# For each row in cool_csv_dict print out that row's \"Cool Fact\"."
   ]
  },
  {
   "cell_type": "markdown",
   "metadata": {},
   "source": [
    "## Reading Different Types of CSV Files\n",
    "I need to level with you, I've been lying to you for the past two exercises. Well, kind of. We've been acting like CSV files are Comma-Separated Values files. It's true that CSV stands for that, but it's also true that other ways of separating values are valid CSV files these days.\n",
    "\n",
    "People used to call Tab-Separated Values files TSV files, but as other separators grew in popularity everyone realized that creating a new `.[a-z]sv` file format for every value-separating character used is not sustainable.\n",
    "\n",
    "So we call all files with a list of different values a CSV file and then use different delimiters (like a comma or tab) to indicate where the different values start and stop.\n",
    "\n",
    "Let's say we had an address book. Since addresses usually use commas in them, we'll need to use a different delimiter for our information. Since none of our data has semicolons (;) in them, we can use those.\n",
    "```\n",
    "addresses.csv\n",
    "```\n",
    "```\n",
    "Name;Address;Telephone\n",
    "Donna Smith;126 Orr Corner Suite 857\\nEast Michael, LA 54411;906-918-6560\n",
    "Aaron Osborn;6965 Miller Station Suite 485\\nNorth Michelle, KS 64364;815.039.3661x42816\n",
    "Jennifer Barnett;8749 Alicia Vista Apt. 288\\nLake Victoriaberg, TN 51094;397-796-4842x451\n",
    "Joshua Bryan;20116 Stephanie Stravenue\\nWhitneytown, IA 87358;(380)074-6173\n",
    "Andrea Jones;558 Melissa Keys Apt. 588\\nNorth Teresahaven, WA 63411;+57(8)7795396386\n",
    "Victor Williams;725 Gloria Views Suite 628\\nEast Scott, IN 38095;768.708.3411x954\n",
    "```\n",
    "Notice the `\\n` character, this is the escape sequence for a new line. The possibility of a new line escaped by a \\n character in our data is why we pass the `newline=''` keyword argument to the open() function.\n",
    "\n",
    "Also notice that many of these addresses have commas in them! This is okay, we'll still be able to read it. If we wanted to, say, print out all the addresses in this CSV file we could do the following:\n",
    "```python\n",
    "import csv\n",
    "\n",
    "with open('addresses.csv', newline='') as addresses_csv:\n",
    "  address_reader = csv.DictReader(addresses_csv, delimiter=';')\n",
    "  for row in address_reader:\n",
    "    print(row['Address'])\n",
    "```\n",
    "Notice that when we call `csv.DictReader` we pass in the `delimiter` parameter, which is the string that's used to delineate separate fields in the CSV. We then iterate through the CSV and print out each of the addresses."
   ]
  },
  {
   "cell_type": "code",
   "execution_count": 599,
   "metadata": {},
   "outputs": [],
   "source": [
    "# Import the csv module.\n",
    "\n",
    "import csv\n",
    "\n",
    "with open('books.csv', newline='') as books_csv:\n",
    "  books_reader = csv.DictReader(books_csv, delimiter='@')\n",
    "  isbn_list = [isbn['ISBN'] for isbn in books_reader]\n",
    "# Open up the file books.csv (Download from Canvas) in the variable books_csv.\n",
    "\n",
    "# Create a DictReader instance that uses the @ symbol as a delimiter to read books_csv. Save the result in a variable called books_reader.\n",
    "\n",
    "# Create a list called isbn_list, iterate through books_csv to get the ISBN number of every book in the CSV file. Use the ['ISBN'] key for the dictionary objects passed to it.\n"
   ]
  },
  {
   "cell_type": "markdown",
   "metadata": {},
   "source": [
    "## Writing a CSV File\n",
    "Naturally if we have the ability to read different CSV files we might want to be able to programmatically create CSV files that save output and data that someone could load into their spreadsheet software. Let's say we have a big list of data that we want to save into a CSV file. We could do the following:\n",
    "```python\n",
    "big_list = [{'name': 'Fredrick Stein', 'userid': 6712359021, 'is_admin': False}, {'name': 'Wiltmore Denis, 'userid': 2525942, 'is_admin': False}, {'name': 'Greely Plonk', 'userid': 15890235, 'is_admin': False}, {'name': 'Dendris Stulo', 'userid': 572189563, 'is_admin': True}] \n",
    "\n",
    "import csv\n",
    "\n",
    "with open('output.csv', 'w') as output_csv:\n",
    "  fields = ['name', 'userid', 'is_admin']\n",
    "  output_writer = csv.DictWriter(output_csv, fieldnames=fields)\n",
    "\n",
    "  output_writer.writeheader()\n",
    "  for item in big_list:\n",
    "    output_writer.writerow(item)\n",
    "```                                                                          \n",
    "In our code above we had a set of dictionaries with the same keys for each, a prime candidate for a CSV. We import the csv library, and then open a new CSV file in write-mode by passing the 'w' argument to the open() function.\n",
    "\n",
    "We then define the fields we're going to be using into a variable called fields. We then instantiate our CSV writer object and pass two arguments. The first is output_csv, the file handler object. The second is our list of fields fields which we pass to the keyword parameter fieldnames.\n",
    "\n",
    "Now that we've instantiated our CSV file writer, we can start adding lines to the file itself! First we want the headers, so we call .writeheader() on the writer object. This writes all the fields passed to fieldnames as the first row in our file. Then we iterate through our big_list of data. Each item in big_list is a dictionary with each field in fields as the keys. We call output_writer.writerow() with the item dictionaries which writes each line to the CSV file."
   ]
  },
  {
   "cell_type": "code",
   "execution_count": 601,
   "metadata": {},
   "outputs": [],
   "source": [
    "access_log = [{'time': '08:39:37', 'limit': 844404, 'address': '1.227.124.181'}, {'time': '13:13:35', 'limit': 543871, 'address': '198.51.139.193'}, {'time': '19:40:45', 'limit': 3021, 'address': '172.1.254.208'}, {'time': '18:57:16', 'limit': 67031769, 'address': '172.58.247.219'}, {'time': '21:17:13', 'limit': 9083, 'address': '124.144.20.113'}, {'time': '23:34:17', 'limit': 65913, 'address': '203.236.149.220'}, {'time': '13:58:05', 'limit': 1541474, 'address': '192.52.206.76'}, {'time': '10:52:00', 'limit': 11465607, 'address': '104.47.149.93'}, {'time': '14:56:12', 'limit': 109, 'address': '192.31.185.7'}, {'time': '18:56:35', 'limit': 6207, 'address': '2.228.164.197'}]\n",
    "fields = ['time', 'address', 'limit']\n",
    "# We have a list in the workspace access_log which is a list of dictionaries we want to write out to a CSV file.\n",
    "\n",
    "# Let's start by importing the csv module.\n",
    "import csv\n",
    "\n",
    "# Open up the file logger.csv in the temporary variable logger_csv. Don't forget to open the file in write-mode.\n",
    "with open('logger.csv', 'w') as logger_csv:\n",
    "\n",
    "# Create a csv.DictWriter instance called log_writer. Pass logger_csv as the first argument and then fields as a keyword argument to the keyword fieldnames.\n",
    "  log_writer = csv.DictWriter(logger_csv, fieldnames=fields)\n",
    "\n",
    "# Write the header to log_writer using the .writeheader() method.\n",
    "\n",
    "  log_writer.writeheader()\n",
    "\n",
    "\n",
    "# Iterate through the access_log list and add each element to the CSV using log_writer.writerow().\n",
    "  for log in access_log:\n",
    "    log_writer.writerow(log)"
   ]
  },
  {
   "cell_type": "markdown",
   "metadata": {},
   "source": [
    "## Reading a JSON File\n",
    "CSV isn't the only file format that Python has a built-in library for. We can also use Python's file tools to read and write JSON. JSON, an abbreviation of JavaScript Object Notation, is a file format inspired by the programming language JavaScript. The name, like CSV is a bit of a misnomer — some JSON is not valid JavaScript (and plenty of JavaScript is not valid JSON).\n",
    "\n",
    "JSON's format is endearingly similar to Python dictionary syntax, and so JSON files might be easy to read from a Python developer standpoint. Nonetheless, Python comes with a json package that will help us parse JSON files into actual Python dictionaries. Suppose we have a JSON file like the following:\n",
    "```\n",
    "purchase_14781239.json\n",
    "```\n",
    "```json\n",
    "{\n",
    "  'user': 'ellen_greg',\n",
    "  'action': 'purchase',\n",
    "  'item_id': '14781239',\n",
    "}\n",
    "```\n",
    "We would be able to read that in as a Python dictionary with the following code:\n",
    "```\n",
    "json_reader.py\n",
    "```\n",
    "```python\n",
    "import json\n",
    "\n",
    "with open('purchase_14781239.json') as purchase_json:\n",
    "  purchase_data = json.load(purchase_json)\n",
    "\n",
    "print(purchase_data['user'])\n",
    "# Prints 'ellen_greg'\n",
    "```\n",
    "First we import the json package. We opened the file using our trusty open() command. Since we're opening it in read-mode we just need to pass the file name. We save the file in the temporary variable purchase_json.\n",
    "\n",
    "We continue by parsing purchase_json using json.load(), creating a Python dictionary out of the file. Saving the results into purchase_data means we can interact with it. We print out one of the values of the JSON file by keying into the purchase_data object."
   ]
  },
  {
   "cell_type": "code",
   "execution_count": 602,
   "metadata": {},
   "outputs": [
    {
     "name": "stdout",
     "output_type": "stream",
     "text": [
      "Now that's JSON!\n"
     ]
    }
   ],
   "source": [
    "\n",
    "# Let's read a JSON file! Start by importing the json module.\n",
    "import json\n",
    "\n",
    "# Open up the file message.json (download from Canvas), saving the file object to the variable message_json.\n",
    "\n",
    "with open('message.json') as message_json:\n",
    "  message = json.load(message_json)\n",
    "# Open the file in read-mode, without passing any additional arguments to open().\n",
    "\n",
    "\n",
    "# Pass the JSON file object as an argument to json.load() and save the resulting Python dictionary as message.\n",
    "\n",
    "\n",
    "# Print out message['text'].\n",
    "print(message['text'])"
   ]
  },
  {
   "cell_type": "markdown",
   "metadata": {},
   "source": [
    "## Writing a JSON File\n",
    "Naturally we can use the json library to translate Python objects to JSON as well. This is especially useful in instances where you're using a Python library to serve web pages, you would also be able to serve JSON. Let's say we had a Python dictionary we wanted to save as a JSON file:\n",
    "```python\n",
    "turn_to_json = {\n",
    "  'eventId': 674189,\n",
    "  'dateTime': '2015-02-12T09:23:17.511Z',\n",
    "  'chocolate': 'Semi-sweet Dark',\n",
    "  'isTomatoAFruit': True\n",
    "}\n",
    "```\n",
    "We'd be able to create a JSON file with that information by doing the following:\n",
    "```python\n",
    "import json\n",
    "\n",
    "with open('output.json', 'w') as json_file:\n",
    "  json.dump(turn_to_json, json_file)\n",
    "```\n",
    "We import the json module, open up a write-mode file under the variable json_file, and then use the json.dump() method to write to the file. json.dump() takes two arguments: first the data object, then the file object you want to save."
   ]
  },
  {
   "cell_type": "code",
   "execution_count": 603,
   "metadata": {},
   "outputs": [],
   "source": [
    "data_payload = [\n",
    "  {'interesting message': 'What is JSON? A web application\\'s little pile of secrets.',\n",
    "   'follow up': 'But enough talk!'}\n",
    "]\n",
    "# In your workspace we've put dictionary called data_payload. We want to save this to a file called data.json.\n",
    "\n",
    "# Let's start by importing the json library.\n",
    "import json\n",
    "\n",
    "# Open a new file object in the variable data_json. \n",
    "# The filename should be 'data.json' and the file should be opened in write-mode.\n",
    "with open('data.json', 'w') as data_json:\n",
    "  json.dump(data_payload, data_json)\n",
    "\n",
    "# Call json.dump() with data_payload and data_json to convert our data to JSON and then save it to the file data.json."
   ]
  },
  {
   "cell_type": "markdown",
   "metadata": {},
   "source": [
    "***\n",
    "***\n",
    "### LEARN PYTHON: CLASSES\n",
    "## Types\n",
    "Python equips us with many different ways to store data. A float is a different kind of number from an int, and we store different data in a list than we do in a dict. These are known as different types. We can check the type of a Python variable using the type() function.\n",
    "```python\n",
    "a_string = \"Cool String\"\n",
    "an_int = 12\n",
    "\n",
    "print(type(a_string))\n",
    "# prints \"<class 'str'>\"\n",
    "\n",
    "print(type(an_int))\n",
    "# prints \"<class 'int'>\"\n",
    "```\n",
    "Above, we defined two variables, and checked the type of these two variables. A variable's type determines what you can do with it and how you can use it. You can't .get() something from an integer, just as you can't add two dictionaries together using +. This is because those operations are defined at the type level."
   ]
  },
  {
   "cell_type": "code",
   "execution_count": 604,
   "metadata": {},
   "outputs": [
    {
     "name": "stdout",
     "output_type": "stream",
     "text": [
      "<class 'int'>\n",
      "<class 'dict'>\n",
      "<class 'list'>\n"
     ]
    }
   ],
   "source": [
    "# 1.\n",
    "# Call type() on the integer 5 and print the results.\n",
    "print(type(5))\n",
    "# 2.\n",
    "# Define a dictionary my_dict.\n",
    "my_dict = {}\n",
    "\n",
    "# 3.\n",
    "# Print out the type() of my_dict.\n",
    "print(type(my_dict))\n",
    "\n",
    "\n",
    "# 4.\n",
    "# Define a list called my_list.\n",
    "my_list = []\n",
    "\n",
    "# 5.\n",
    "# Print out the type() of my_list.\n",
    "print(type(my_list))"
   ]
  },
  {
   "cell_type": "markdown",
   "metadata": {},
   "source": [
    "## Class\n",
    "A class is a template for a data type. It describes the kinds of information that class will hold and how a programmer will interact with that data. Define a class using the class keyword. PEP 8 Style Guide for Python Code recommends capitalizing the names of classes to make them easier to identify.\n",
    "```python\n",
    "class CoolClass:\n",
    "  pass\n",
    "```\n",
    "In the above example we created a class and named it CoolClass. We used the pass keyword in Python to indicate that the body of the class was intentionally left blank so we don't cause an IndentationError. We’ll learn about all the things we can put in the body of a class in the next few exercises."
   ]
  },
  {
   "cell_type": "code",
   "execution_count": 605,
   "metadata": {},
   "outputs": [],
   "source": [
    "# Define an empty class called Facade. We'll chip away at it soon!\n",
    "class Facade:\n",
    "      pass"
   ]
  },
  {
   "cell_type": "markdown",
   "metadata": {},
   "source": [
    "## Instantiation\n",
    "A class doesn't accomplish anything simply by being defined. A class must be instantiated. In other words, we must create an instance of the class, in order to breathe life into the schematic.\n",
    "\n",
    "Instantiating a class looks a lot like calling a function. We would be able to create an instance of our defined CoolClass as follows:\n",
    "```python\n",
    "cool_instance = CoolClass()\n",
    "```\n",
    "Above, we created an object by adding parentheses to the name of the class. We then assigned that new instance to the variable cool_instance for safe-keeping."
   ]
  },
  {
   "cell_type": "code",
   "execution_count": 606,
   "metadata": {},
   "outputs": [],
   "source": [
    "class Facade:\n",
    "  pass\n",
    "\n",
    "# we see our Facade class from last exercise. Make a Facade instance and save it to the variable facade_1.\n",
    "facade_1 = Facade()"
   ]
  },
  {
   "cell_type": "markdown",
   "metadata": {},
   "source": [
    "## Object-Oriented Programming\n",
    "A class instance is also called an object. The pattern of defining classes and creating objects to represent the responsibilities of a program is known as Object Oriented Programming or OOP.\n",
    "\n",
    "Instantiation takes a class and turns it into an object, the type() function does the opposite of that. When called with an object, it returns the class that the object is an instance of.\n",
    "```python\n",
    "print(type(cool_instance))\n",
    "# prints \"<class '__main__.CoolClass'>\"\n",
    "```\n",
    "We then print out the type() of cool_instance and it shows us that this object is of type __main__.CoolClass.\n",
    "\n",
    "In Python __main__ means \"this current file that we're running\" and so one could read the output from type() to mean \"the class CoolClass that was defined here, in the script you're currently running.\""
   ]
  },
  {
   "cell_type": "code",
   "execution_count": 607,
   "metadata": {},
   "outputs": [
    {
     "name": "stdout",
     "output_type": "stream",
     "text": [
      "<class '__main__.Facade'>\n"
     ]
    }
   ],
   "source": [
    "class Facade:\n",
    "  pass\n",
    "\n",
    "facade_1 = Facade()\n",
    "\n",
    "facade_1_type = type(facade_1) \n",
    "\n",
    "print(facade_1_type)\n",
    "\n",
    "# we see facade_1 from last exercise. Try calling type() on facade_1 and saving it to the variable facade_1_type.\n",
    "# Print out facade_1_type."
   ]
  },
  {
   "cell_type": "markdown",
   "metadata": {},
   "source": [
    "## Class Variables\n",
    "When we want the same data to be available to every instance of a class we use a class variable. A class variable is a variable that's the same for every instance of the class.\n",
    "\n",
    "You can define a class variable by including it in the indented part of your class definition, and you can access all of an object's class variables with object.variable syntax.\n",
    "```python\n",
    "class Musician:\n",
    "  title = \"Rockstar\"\n",
    "\n",
    "drummer = Musician()\n",
    "print(drummer.title)\n",
    "# prints \"Rockstar\"\n",
    "```\n",
    "Above we defined the class Musician, then instantiated drummer to be an object of type Musician. We then printed out the drummer's .title attribute, which is a class variable that we defined as the string \"Rockstar\".\n",
    "\n",
    "If we defined another musician, like guitarist = Musician() they would have the same .title attribute."
   ]
  },
  {
   "cell_type": "code",
   "execution_count": 608,
   "metadata": {},
   "outputs": [],
   "source": [
    "# You are digitizing grades for Jan van Eyck High School and Conservatory. At Jan van High, as the students call it, 65 is the minimum passing grade.\n",
    "\n",
    "# Create a Grade class with a class attribute minimum_passing equal to 65.\n",
    "class Grade:\n",
    "    minimum_passing = 65"
   ]
  },
  {
   "cell_type": "markdown",
   "metadata": {},
   "source": [
    "## Methods\n",
    "Methods are functions that are defined as part of a class. The first argument in a method is always the object that is calling the method. Convention recommends that we name this first argument self. Methods always have at least this one argument.\n",
    "\n",
    "We define methods similarly to functions, except that they are indented to be part of the class.\n",
    "```python\n",
    "class Dog():\n",
    "  dog_time_dilation = 7\n",
    "\n",
    "  def time_explanation(self):\n",
    "    print(\"Dogs experience {} years for every 1 human year.\".format(self.dog_time_dilation))\n",
    "\n",
    "pipi_pitbull = Dog()\n",
    "pipi_pitbull.time_explanation()\n",
    "# Prints \"Dogs experience 7 years for every 1 human year.\"\n",
    "```\n",
    "Above we created a Dog class with a time_explanation method that takes one argument, self, which refers to the object calling the function. We created a Dog named pipi_pitbull and called the .time_explanation() method on our new object for Pipi.\n",
    "\n",
    "Notice we didn't pass any arguments when we called .time_explanation(), but were able to refer to self in the function body. When you call a method it automatically passes the object calling the method as the first argument."
   ]
  },
  {
   "cell_type": "code",
   "execution_count": 609,
   "metadata": {},
   "outputs": [
    {
     "data": {
      "text/plain": [
       "'Point bristles towards the basin while washing your brushes.'"
      ]
     },
     "execution_count": 609,
     "metadata": {},
     "output_type": "execute_result"
    }
   ],
   "source": [
    "# At Jan van High, the students are constantly calling the school rules into question. \n",
    "# Create a Rules class so that we can explain the rules.\n",
    "\n",
    "class Rules():\n",
    "  def washing_brushes():\n",
    "    print(\"Point bristles towards the basin while washing your brushes.\")\n",
    "\n",
    "# Give Rules a method washing_brushes that returns the string .\n",
    "\n",
    "\"\"\"Point bristles towards the basin while washing your brushes.\"\"\""
   ]
  },
  {
   "cell_type": "markdown",
   "metadata": {},
   "source": [
    "## Methods with Arguments\n",
    "Methods can also take more arguments than just self:\n",
    "```python\n",
    "class DistanceConverter:\n",
    "  kms_in_a_mile = 1.609\n",
    "  def how_many_kms(self, miles):\n",
    "    return miles * self.kms_in_a_mile\n",
    "\n",
    "converter = DistanceConverter()\n",
    "kms_in_5_miles = converter.how_many_kms(5)\n",
    "print(kms_in_5_miles)\n",
    "# prints \"8.045\"\n",
    "```\n",
    "Above we defined a DistanceConverter class, instantiated it, and used it to convert 5 miles into kilometers. Notice again that even though how_many_kms takes two arguments in its definition, we only pass miles, because self is implicitly passed (and refers to the object converter)."
   ]
  },
  {
   "cell_type": "code",
   "execution_count": 612,
   "metadata": {},
   "outputs": [],
   "source": [
    "# It's March 14th (known in some places as Pi day) at Jan van High, and you're feeling awfully festive. You decide to create a program that calculates the area of a circle.\n",
    "\n",
    "# Create a Circle class with class variable pi. Set pi to the approximation 3.14.\n",
    "\n",
    "class Circle:\n",
    "  def area(self, radius):\n",
    "    return 3.14 * radius ** 2\n",
    "\n",
    "# Give Circle an area method that takes two parameters: self and radius.\n",
    "\n",
    "# Return the area as given by this formula:\n",
    "\n",
    "# area = pi * radius ** 2"
   ]
  },
  {
   "cell_type": "markdown",
   "metadata": {},
   "source": [
    "## Constructors\n",
    "There are several methods that we can define in a Python class that have special behavior. These methods are sometimes called \"magic\", because they behave differently from regular methods. Another popular term is dunder methods, so-named because they have two underscores (double-underscore abbreviated to \"dunder\") on either side of them.\n",
    "\n",
    "The first dunder method we're going to use is the `__init__` method (note the two underscores before and after the word \"init\"). This method is used to initialize a newly created object. It is called every time the class is instantiated.\n",
    "\n",
    "Methods that are used to prepare an object being instantiated are called constructors. The word \"constructor\" is used to describe similar features in other object-oriented programming languages but programmers who refer to a constructor in Python are usually talking about the `__init__` method.\n",
    "```python\n",
    "class Shouter:\n",
    "  def __init__(self):\n",
    "    print(\"HELLO?!\")\n",
    "\n",
    "shout1 = Shouter()\n",
    "# prints \"HELLO?!\"\n",
    "\n",
    "shout2 = Shouter()\n",
    "# prints \"HELLO?!\"\n",
    "```\n",
    "Above we created a class called Shouter and every time we create an instance of Shouter the program prints out a shout. Don't worry, this doesn't hurt the computer at all.\n",
    "\n",
    "Pay careful attention to the instantiation syntax we use. Shouter() looks a lot like a function call, doesn't it? If it's a function, can we pass parameters to it? We absolutely can, and those parameters will be received by the __init__ method.\n",
    "```python\n",
    "class Shouter:\n",
    "  def __init__(self, phrase):\n",
    "    # make sure phrase is a string\n",
    "    if type(phrase) == str:\n",
    "\n",
    "      # then shout it out\n",
    "      print(phrase.upper())\n",
    "\n",
    "shout1 = Shouter(\"shout\")\n",
    "# prints \"SHOUT\"\n",
    "\n",
    "shout2 = Shouter(\"shout\")\n",
    "# prints \"SHOUT\"\n",
    "\n",
    "shout3 = Shouter(\"let it all out\")\n",
    "# prints \"LET IT ALL OUT\"\n",
    "```\n",
    "Above we've updated our Shouter class to take the additional parameter phrase. When we created each of our objects we passed an argument to the constructor. The constructor takes the argument phrase and, if it's a string, prints out the all-caps version of phrase."
   ]
  },
  {
   "cell_type": "code",
   "execution_count": 621,
   "metadata": {},
   "outputs": [
    {
     "name": "stdout",
     "output_type": "stream",
     "text": [
      "Creating circle with diameter 36\n"
     ]
    }
   ],
   "source": [
    "\n",
    "# Add a constructor to our Circle class.\n",
    "\n",
    "# Since we seem more frequently to know the diameter of a circle, it should take the argument diameter.\n",
    "\n",
    "# It doesn't need to do anything yet, just write pass in the body of the constructor.\n",
    "\n",
    "\n",
    "\n",
    "# Now have the constructor print out the message \"New circle with diameter: {diameter}\" when a new circle is created.\n",
    "\n",
    "# Create a circle teaching_table with diameter 36.\n",
    "\n",
    "class Circle:\n",
    "  pi = 3.14  \n",
    "  # Add constructor here:\n",
    "\n",
    "  \n",
    "  def __init__(self, diameter):\n",
    "    print(\"Creating circle with diameter {d}\".format(d=diameter))\n",
    "  \n",
    "\n",
    "teaching_table = Circle(36)"
   ]
  },
  {
   "cell_type": "markdown",
   "metadata": {},
   "source": [
    "## Instance Variables\n",
    "We've learned so far that a class is a schematic for a data type and an object is an instance of a class, but why is there such a strong need to differentiate the two if each object can only have the methods and class variables the class has? This is because each instance of a class can hold different kinds of data.\n",
    "\n",
    "The data held by an object is referred to as an instance variable. Instance variables aren't shared by all instances of a class — they are variables that are specific to the object they are attached to.\n",
    "\n",
    "Let's say that we have the following class definition:\n",
    "```python\n",
    "class FakeDict:\n",
    "  pass\n",
    "```\n",
    "We can instantiate two different objects from this class, fake_dict1 and fake_dict2, and assign instance variables to these objects using the same attribute notation that was used for accessing class variables.\n",
    "```python\n",
    "fake_dict1 = FakeDict()\n",
    "fake_dict2 = FakeDict()\n",
    "\n",
    "fake_dict1.fake_key = \"This works!\"\n",
    "fake_dict2.fake_key = \"This too!\"\n",
    "\n",
    "# Let's join the two strings together!\n",
    "working_string = \"{} {}\".format(fake_dict1.fake_key, fake_dict2.fake_key)\n",
    "print(working_string)\n",
    "# prints \"This works! This too!\"\n",
    "```"
   ]
  },
  {
   "cell_type": "code",
   "execution_count": 373,
   "metadata": {},
   "outputs": [],
   "source": [
    "class Store:\n",
    "  pass\n",
    "\n",
    "# we have defined a Store class. Create two objects from this store class, named alternative_rocks and isabelles_ices.\n",
    "\n",
    "\n",
    "\n",
    "# Give them both instance attributes called store_name. Set alternative_rocks's store_name to \"Alternative Rocks\". \n",
    "# Set isabelles_ices's store_name to \"Isabelle's Ices\"."
   ]
  },
  {
   "cell_type": "markdown",
   "metadata": {},
   "source": [
    "## Attribute Functions\n",
    "Instance variables and class variables are both accessed similarly in Python. This is no mistake, they are both considered attributes of an object. If we attempt to access an attribute that is neither a class variable nor an instance variable of the object Python will throw an AttributeError.\n",
    "```python\n",
    "class NoCustomAttributes:\n",
    "  pass\n",
    "\n",
    "attributeless = NoCustomAttributes()\n",
    "\n",
    "try:\n",
    "  attributeless.fake_attribute\n",
    "except AttributeError:\n",
    "  print(\"This text gets printed!\")\n",
    "\n",
    "# prints \"This text gets printed!\"\n",
    "```\n",
    "What if we aren't sure if an object has an attribute or not? getattr() is a Python function that works a lot like the usual dot-syntax (i.e., object_name.attribute_name) but we can supply a third argument that will be the default if the object does not have the given attribute. What if we only really care whether the attribute exists? hasattr() will return True if an object has a given attribute and False otherwise.\n",
    "\n",
    "Calling those functions looks like this:\n",
    "```python\n",
    "hasattr(attributeless, \"fake_attribute\")\n",
    "# returns False\n",
    "\n",
    "getattr(attributeless, \"other_fake_attribute\", 800)\n",
    "# returns 800, the default value\n",
    "```\n",
    "Above we checked if the attributeless object has the attribute fake_attribute. Since it does not, hasattr() returned False. After that, we used getattr to attempt to retrieve other_fake_attribute. Since other_fake_attribute isn't a real attribute on attributeless, our call to getattr() returned the supplied default value 800, instead of throwing an AttributeError."
   ]
  },
  {
   "cell_type": "code",
   "execution_count": 541,
   "metadata": {},
   "outputs": [],
   "source": [
    "# we have a list of different data types, some strings, some lists, \n",
    "# and some dictionaries, all saved in the variable how_many_s.\n",
    "# For every element in the list, check if the element has the attribute count. \n",
    "# If so, count the number of times the string \"s\" appears in the element. Print this number.\n",
    "how_many_s = [{'s': False}, \"sassafrass\", 18, [\"a\", \"c\", \"s\", \"d\", \"s\"]]"
   ]
  },
  {
   "cell_type": "markdown",
   "metadata": {},
   "source": [
    "## Self\n",
    "Since we can already use dictionaries to store key-value pairs, using objects for that purpose is not really useful. Instance variables are more powerful when you can guarantee a rigidity to the data the object is holding.\n",
    "\n",
    "This convenience is most apparent when the constructor creates the instance variables, using the arguments passed in to it. If we were creating a search engine, and we wanted to create classes for each separate entry we could return. We'd do that like this:\n",
    "```python\n",
    "class SearchEngineEntry:\n",
    "  def __init__(self, url):\n",
    "    self.url = url\n",
    "\n",
    "codecademy = SearchEngineEntry(\"www.codecademy.com\")\n",
    "wikipedia = SearchEngineEntry(\"www.wikipedia.org\")\n",
    "\n",
    "print(codecademy.url)\n",
    "# prints \"www.codecademy.com\"\n",
    "\n",
    "print(wikipedia.url)\n",
    "# prints \"www.wikipedia.org\"\n",
    "```\n",
    "Since the self keyword refers to the object and not the class being called, we can define a secure method on the SearchEngineEntry class that returns the secure link to an entry.\n",
    "```python\n",
    "class SearchEngineEntry:\n",
    "  secure_prefix = \"https://\"\n",
    "  def __init__(self, url):\n",
    "    self.url = url\n",
    "\n",
    "  def secure(self):\n",
    "    return \"{prefix}{site}\".format(prefix=self.secure_prefix, site=self.url)\n",
    "\n",
    "codecademy = SearchEngineEntry(\"www.codecademy.com\")\n",
    "\n",
    "print(codecademy.secure())\n",
    "# prints \"https://www.codecademy.com\"\n",
    "\n",
    "print(wikipedia.secure())\n",
    "# prints \"https://www.wikipedia.org\"\n",
    "```\n",
    "Above we define our secure() method to take just the one required argument, self. We access both the class variable self.secure_prefix and the instance variable self.url to return a secure URL.\n",
    "\n",
    "This is the strength of writing object-oriented programs. We can write our classes to structure the data that we need and write methods that will interact with that data in a meaningful way."
   ]
  },
  {
   "cell_type": "code",
   "execution_count": 627,
   "metadata": {},
   "outputs": [
    {
     "name": "stdout",
     "output_type": "stream",
     "text": [
      "Creating circle with diameter 12\n",
      "Creating circle with diameter 36\n",
      "Creating circle with diameter 11460\n"
     ]
    }
   ],
   "source": [
    "# you'll find our familiar friend, the Circle class.\n",
    "# Even though we usually know the diameter beforehand, what we need for most calculations is the radius.\n",
    "# In Circle's constructor set the instance variable self.radius to equal half the diameter that gets passed in.\n",
    "\n",
    "\n",
    "# Define three Circles with three different diameters.\n",
    "# A medium pizza, medium_pizza, that is 12 inches across.\n",
    "# Your teaching table, teaching_table, which is 36 inches across.\n",
    "# The Round Room auditorium, round_room, which is 11,460 inches across.\n",
    "\n",
    "\n",
    "\n",
    "# Define a new method circumference for your circle object that takes only one argument, \n",
    "# self, and returns the circumference of a circle with the given radius by this formula:\n",
    "\"\"\"\n",
    "circumference = 2 * pi * radius\n",
    "\"\"\"\n",
    "\n",
    "\n",
    "# Print out the circumferences of medium_pizza, teaching_table, and round_room.\n",
    "\n",
    "class Circle:\n",
    "  pi = 3.14\n",
    "  def __init__(self, diameter):\n",
    "    print(\"Creating circle with diameter {d}\".format(d=diameter))\n",
    "    # Add assignment for self.radius here:\n",
    "  \n",
    "  def circumference(self):\n",
    "    return self.pi * 2 * self.radius\n",
    "  \n",
    "  \n",
    "medium_pizza = Circle(12)\n",
    "teaching_table = Circle(36)\n",
    "round_room = Circle(11460)"
   ]
  },
  {
   "cell_type": "markdown",
   "metadata": {},
   "source": [
    "## Everything is an Object\n",
    "Attributes can be added to user-defined objects after instantiation, so it's possible for an object to have some attributes that are not explicitly defined in an object's constructor. We can use the dir() function to investigate an object's attributes at runtime. dir() is short for directory and offers an organized presentation of object attributes.\n",
    "```python\n",
    "class FakeDict:\n",
    "  pass\n",
    "\n",
    "fake_dict = FakeDict()\n",
    "fake_dict.attribute = \"Cool\"\n",
    "\n",
    "dir(fake_dict)\n",
    "# Prints ['__class__', '__delattr__', '__dict__', '__dir__', '__doc__', '__eq__', '__format__', '__ge__', '__getattribute__', '__gt__', '__hash__', '__init__', '__init_subclass__', '__le__', '__lt__', '__module__', '__ne__', '__new__', '__reduce__', '__reduce_ex__', '__repr__', '__setattr__', '__sizeof__', '__str__', '__subclasshook__', '__weakref__', 'attribute']\n",
    "```\n",
    "That's certainly a lot more attributes than we defined! Python automatically adds a number of attributes to all objects that get created. These internal attributes are usually indicated by double-underscores. But sure enough, attribute is in that list.\n",
    "\n",
    "Do you remember being able to use `type()` on Python's native data types? This is because they are also objects in Python. Their classes are `int`,`float`, `str`, `list`, and `dict`. These Python classes have special syntax for their instantiation, `1`, `1.0`, `\"hello\"`, `[]`, and `{}` specifically. But these instances are still full-blown objects to Python.\n",
    "```python\n",
    "fun_list = [10, \"string\", {'abc': True}]\n",
    "\n",
    "type(fun_list)\n",
    "# Prints <class 'list'>\n",
    "\n",
    "dir(fun_list)\n",
    "# Prints ['__add__', '__class__', [...], 'append', 'clear', 'copy', 'count', 'extend', 'index', 'insert', 'pop', 'remove', 'reverse', 'sort']\n",
    "```\n",
    "Above we define a new list. We check it's type and see that's an instantiation of class list. We use dir() to explore its attributes, and it gives us a large number of internal Python dunder attributes, but, afterward, we get the usual list methods."
   ]
  },
  {
   "cell_type": "code",
   "execution_count": null,
   "metadata": {},
   "outputs": [],
   "source": [
    "# Call dir() on the number 5. Print out the results.\n",
    "\n",
    "\n",
    "# Define a function called this_function_is_an_object. It can take any parameters and return anything you'd like.\n",
    "\n",
    "\n",
    "\n",
    "# Print out the result of calling dir() on this_function_is_an_object.\n",
    "# Functions are objects too!"
   ]
  },
  {
   "cell_type": "markdown",
   "metadata": {},
   "source": [
    "## String Representation\n",
    "One of the first things we learn as programmers is how to print out information that we need for debugging. Unfortunately, when we print out an object we get a default representation that seems fairly useless.\n",
    "```python\n",
    "class Employee():\n",
    "  def __init__(self, name):\n",
    "    self.name = name\n",
    "\n",
    "argus = Employee(\"Argus Filch\")\n",
    "print(argus)\n",
    "# prints \"<__main__.Employee object at 0x104e88390>\"\n",
    "```\n",
    "This default string representation gives us some information, like where the class is defined and our computer's memory address where this object is stored, but is usually not useful information to have when we are trying to debug our code.\n",
    "\n",
    "We learned about the dunder method `__init__`. Now, we will learn another dunder method called `__repr__`. This is a method we can use to tell Python what we want the string representation of the class to be. `__repr__` can only have one parameter, self, and must return a string.\n",
    "\n",
    "In our Employee class above, we have an instance variable called name that should be unique enough to be useful when we're printing out an instance of the Employee class.\n",
    "```python\n",
    "class Employee():\n",
    "  def __init__(self, name):\n",
    "    self.name = name\n",
    "\n",
    "  def __repr__(self):\n",
    "    return self.name\n",
    "\n",
    "argus = Employee(\"Argus Filch\")\n",
    "print(argus)\n",
    "# prints \"Argus Filch\"\n",
    "```\n",
    "We implemented the `__repr__` method and had it return the `.name` attribute of the object. When we printed the object out it simply printed the `.name` of the object! Cool!"
   ]
  },
  {
   "cell_type": "code",
   "execution_count": 626,
   "metadata": {},
   "outputs": [
    {
     "name": "stdout",
     "output_type": "stream",
     "text": [
      "Circle with radius 6.0\n",
      "Circle with radius 18.0\n",
      "Circle with radius 5730.0\n"
     ]
    }
   ],
   "source": [
    "class Circle:\n",
    "  pi = 3.14\n",
    "  \n",
    "  def __init__(self, diameter):\n",
    "    self.radius = diameter / 2\n",
    "  \n",
    "  def area(self):\n",
    "    return self.pi * self.radius ** 2\n",
    "  \n",
    "  def circumference(self):\n",
    "    return self.pi * 2 * self.radius\n",
    "  \n",
    "  def __repr__(self):\n",
    "    return ('Circle with radius {radius}'.format(radius=self.radius))\n",
    "\n",
    "# Add a __repr__ method to the Circle class that returns\n",
    "# Circle with radius {radius}\n",
    "\n",
    "\n",
    "# Print out medium_pizza, teaching_table, and round_room.\n",
    "\n",
    "medium_pizza = Circle(12)\n",
    "teaching_table = Circle(36)\n",
    "round_room = Circle(11460)\n",
    "\n",
    "print(medium_pizza)\n",
    "print(teaching_table)\n",
    "print(round_room)"
   ]
  },
  {
   "cell_type": "markdown",
   "metadata": {},
   "source": [
    "***\n",
    "***\n",
    "### LEARN PYTHON: INHERITANCE AND POLYMORPHISM\n",
    "## Inheritance\n",
    "Classes are designed to allow for more code reuse, but what if we need a class that looks a lot like a class we already have? If the bulk of a class's definition is useful, but we have a new use case that is distinct from how the original class was used, we can inherit from the original class. Think of inheritance as a remix — it sounds a lot like the original, but there's something... different about it.\n",
    "```python\n",
    "class User:\n",
    "  is_admin = False\n",
    "  def __init__(self, username)\n",
    "    self.username = username\n",
    "\n",
    "class Admin(User):\n",
    "  is_admin = True\n",
    "```\n",
    "Above we defined User as our base class. We want to create a new class that inherits from it, so we created the subclass Admin. In the above example, Admin has the same constructor as User. Only the class variable is_admin is set differently between the two.\n",
    "\n",
    "Sometimes a base class is called a parent class. In these terms, the class inheriting from it, the subclass, is also referred to as a child class."
   ]
  },
  {
   "cell_type": "code",
   "execution_count": 546,
   "metadata": {},
   "outputs": [],
   "source": [
    "# we've already defined the class Bin. Create a subclass of Bin called RecyclingBin.\n",
    "class Bin:\n",
    "  pass\n",
    "class RecyclingBin(Bin):\n",
    "  pass"
   ]
  },
  {
   "cell_type": "markdown",
   "metadata": {},
   "source": [
    "## Exceptions\n",
    "There's one very important family of class definitions built in to the Python language. An Exception is a class that inherits from Python's Exception class.\n",
    "\n",
    "We can validate this ourselves using the issubclass() function. issubclass() is a Python built-in function that takes two parameters. issubclass() returns True if the first argument is a subclass of the second argument. It returns False if the first class is not a subclass of the second. issubclass() raises a TypeError if either argument passed in is not a class.\n",
    "```python\n",
    "issubclass(ZeroDivisionError, Exception)\n",
    "# Returns True\n",
    "```\n",
    "Above, we checked whether ZeroDivisionError, the exception raised when attempting division by zero, is a subclass of Exception. It is, so issubclass returns True.\n",
    "\n",
    "Why is it beneficial for exceptions to inherit from one another? Let's consider an example where we create our own exceptions. What if we were creating software that tracks our kitchen appliances? We would be able to design a suite of exceptions for that need:\n",
    "```python\n",
    "class KitchenException(Exception):\n",
    "  \"\"\"\n",
    "  Exception that gets thrown when a kitchen appliance isn't working\n",
    "  \"\"\"\n",
    "\n",
    "class MicrowaveException(KitchenException):\n",
    "  \"\"\"\n",
    "  Exception for when the microwave stops working\n",
    "  \"\"\"\n",
    "\n",
    "class RefrigeratorException(KitchenException):\n",
    "  \"\"\"\n",
    "  Exception for when the refrigerator stops working\n",
    "  \"\"\"\n",
    "```\n",
    "In this code, we define three exceptions. First, we define a KitchenException that acts as the parent to our other, specific kitchen appliance exceptions. KitchenException subclasses Exception, so it behaves in the same way that regular Exceptions do. Afterward we define MicrowaveException and RefrigeratorException as subclasses.\n",
    "\n",
    "Since our exceptions are subclassed in this way, we can catch any of KitchenException's subclasses by catching KitchenException. For example:\n",
    "```python\n",
    "def get_food_from_fridge():\n",
    "  if refrigerator.cooling == False:\n",
    "    raise RefrigeratorException\n",
    "  else:\n",
    "    return food\n",
    "\n",
    "def heat_food(food):\n",
    "  if microwave.working == False:\n",
    "    raise MicrowaveException\n",
    "  else:\n",
    "    microwave.cook(food)\n",
    "    return food\n",
    "\n",
    "try:\n",
    "  food = get_food_from_fridge()\n",
    "  food = heat_food(food)\n",
    "except KitchenException:\n",
    "  food = order_takeout()\n",
    "```\n",
    "In the above example, we attempt to retrieve food from the fridge and heat it in the microwave. If either RefrigeratorException or MicrowaveException is raised, we opt to order takeout instead. We catch both RefrigeratorException and MicrowaveException in our try/except block because both are subclasses of KitchenException.\n",
    "\n",
    "Explore Python's exception hierarchy in the [Python documentation](https://docs.python.org/3/library/exceptions.html#exception-hierarchy)!"
   ]
  },
  {
   "cell_type": "code",
   "execution_count": 547,
   "metadata": {},
   "outputs": [
    {
     "ename": "OutOfStock",
     "evalue": "",
     "output_type": "error",
     "traceback": [
      "\u001b[0;31m---------------------------------------------------------------------------\u001b[0m",
      "\u001b[0;31mOutOfStock\u001b[0m                                Traceback (most recent call last)",
      "\u001b[0;32m<ipython-input-547-d1335387214f>\u001b[0m in \u001b[0;36m<module>\u001b[0;34m\u001b[0m\n\u001b[1;32m     26\u001b[0m \u001b[0;31m# This should raise OutOfStock: (it looks like OutofStock is being raised...)\u001b[0m\u001b[0;34m\u001b[0m\u001b[0;34m\u001b[0m\u001b[0;34m\u001b[0m\u001b[0m\n\u001b[1;32m     27\u001b[0m \u001b[0;34m\u001b[0m\u001b[0m\n\u001b[0;32m---> 28\u001b[0;31m \u001b[0mcandle_shop\u001b[0m\u001b[0;34m.\u001b[0m\u001b[0mbuy\u001b[0m\u001b[0;34m(\u001b[0m\u001b[0;34m'green'\u001b[0m\u001b[0;34m)\u001b[0m\u001b[0;34m\u001b[0m\u001b[0;34m\u001b[0m\u001b[0m\n\u001b[0m",
      "\u001b[0;32m<ipython-input-547-d1335387214f>\u001b[0m in \u001b[0;36mbuy\u001b[0;34m(self, color)\u001b[0m\n\u001b[1;32m     18\u001b[0m   \u001b[0;32mdef\u001b[0m \u001b[0mbuy\u001b[0m\u001b[0;34m(\u001b[0m\u001b[0mself\u001b[0m\u001b[0;34m,\u001b[0m \u001b[0mcolor\u001b[0m\u001b[0;34m)\u001b[0m\u001b[0;34m:\u001b[0m\u001b[0;34m\u001b[0m\u001b[0;34m\u001b[0m\u001b[0m\n\u001b[1;32m     19\u001b[0m     \u001b[0;32mif\u001b[0m \u001b[0mself\u001b[0m\u001b[0;34m.\u001b[0m\u001b[0mstock\u001b[0m\u001b[0;34m[\u001b[0m\u001b[0mcolor\u001b[0m\u001b[0;34m]\u001b[0m \u001b[0;34m<\u001b[0m \u001b[0;36m1\u001b[0m\u001b[0;34m:\u001b[0m\u001b[0;34m\u001b[0m\u001b[0;34m\u001b[0m\u001b[0m\n\u001b[0;32m---> 20\u001b[0;31m       \u001b[0;32mraise\u001b[0m \u001b[0mOutOfStock\u001b[0m\u001b[0;34m\u001b[0m\u001b[0;34m\u001b[0m\u001b[0m\n\u001b[0m\u001b[1;32m     21\u001b[0m     \u001b[0mself\u001b[0m\u001b[0;34m.\u001b[0m\u001b[0mstock\u001b[0m\u001b[0;34m[\u001b[0m\u001b[0mcolor\u001b[0m\u001b[0;34m]\u001b[0m \u001b[0;34m=\u001b[0m \u001b[0mself\u001b[0m\u001b[0;34m.\u001b[0m\u001b[0mstock\u001b[0m\u001b[0;34m[\u001b[0m\u001b[0mcolor\u001b[0m\u001b[0;34m]\u001b[0m \u001b[0;34m-\u001b[0m \u001b[0;36m1\u001b[0m\u001b[0;34m\u001b[0m\u001b[0;34m\u001b[0m\u001b[0m\n\u001b[1;32m     22\u001b[0m \u001b[0;34m\u001b[0m\u001b[0m\n",
      "\u001b[0;31mOutOfStock\u001b[0m: "
     ]
    }
   ],
   "source": [
    "# we've defined a CandleShop class for our new candle shop that we've named Here's a Hot Tip: Buy Drip Candles. \n",
    "# We want to define our own exceptions for when we run out of candles to sell.\n",
    "\n",
    "# Define your own exception called OutOfStock that inherits from the Exception class.\n",
    "\n",
    "\n",
    "# Define your exception up here:\n",
    "class OutOfStock(Exception):\n",
    "  pass\n",
    "\n",
    "# Update the class below to raise OutOfStock\n",
    "class CandleShop:\n",
    "  name = \"Here's a Hot Tip: Buy Drip Candles\"\n",
    "  def __init__(self, stock):\n",
    "    self.stock = stock\n",
    "\n",
    "    \n",
    "  def buy(self, color):\n",
    "    if self.stock[color] < 1:\n",
    "      raise OutOfStock\n",
    "    self.stock[color] = self.stock[color] - 1\n",
    "\n",
    "candle_shop = CandleShop({'blue': 6, 'red': 2, 'green': 0})\n",
    "candle_shop.buy('blue')\n",
    "\n",
    "# This should raise OutOfStock: (it looks like OutofStock is being raised...)\n",
    "\n",
    "candle_shop.buy('green')"
   ]
  },
  {
   "cell_type": "markdown",
   "metadata": {},
   "source": [
    "## Overriding Methods\n",
    "Inheritance is a useful way of creating objects with different class variables, but is that all it's good for? What if one of the methods needs to be implemented differently? In Python, all we have to do to override a method definition is to offer a new definition for the method in our subclass.\n",
    "\n",
    "An overridden method is one that has a different definition from its parent class. What if User class didn't have an is_admin flag but just checked if it had permission for something based on a permissions dictionary? It could look like this:\n",
    "```python\n",
    "class User:\n",
    "  def __init__(self, username, permissions):\n",
    "    self.username = username\n",
    "    self.permissions = permissions\n",
    "\n",
    "  def has_permission_for(self, key):\n",
    "    if self.permissions.get(key):\n",
    "      return True\n",
    "    else:\n",
    "      return False\n",
    "```\n",
    "Above we defined a class User which takes a permissions parameter in its constructor. Let's assume permissions is a dict. User has a method .has_permission_for() implemented, where it checks to see if a given key is in its permissions dictionary. We could then define our Admin user like this:\n",
    "```python\n",
    "class Admin(User):\n",
    "  def has_permission_for(self, key):\n",
    "    return True\n",
    "```\n",
    "Here we define an Admin class that subclasses User. It has all methods, attributes, and functionality that User has. However, if you call has_permission_for on an instance of Admin, it won't check its permissions dictionary. Since this User is also an Admin, we just say they have permission to see everything!"
   ]
  },
  {
   "cell_type": "code",
   "execution_count": 625,
   "metadata": {},
   "outputs": [],
   "source": [
    "class Message:\n",
    "  def __init__(self, sender, recipient, text):\n",
    "    self.sender = sender\n",
    "    self.recipient = recipient\n",
    "    self.text = text\n",
    "\n",
    "class User:\n",
    "  def __init__(self, username):\n",
    "    self.username = username\n",
    "    \n",
    "    \n",
    "  def edit_message(self, message, new_text):\n",
    "    if message.sender == self.username:\n",
    "      message.text = new_text\n",
    "    \n",
    "    \n",
    "    \n",
    "# we've defined two classes, Message and User. Create an Admin class that subclasses the User class.\n",
    "\n",
    "class Admin(User):\n",
    "  def has_permission_for(self, key):\n",
    "    return True\n",
    "\n",
    "# Override User's .edit_message() method in Admin so that an Admin can edit any messages."
   ]
  },
  {
   "cell_type": "markdown",
   "metadata": {},
   "source": [
    "## Super()\n",
    "Overriding methods is really useful in some cases but sometimes we want to add some extra logic to the existing method. In order to do that we need a way to call the method from the parent class. Python gives us a way to do that using super().\n",
    "\n",
    "super() gives us a proxy object. With this proxy object, we can invoke the method of an object's parent class (also called its superclass). We call the required function as a method on super():\n",
    "```python\n",
    "class Sink:\n",
    "  def __init__(self, basin, nozzle):\n",
    "    self.basin = basin\n",
    "    self.nozzle = nozzle\n",
    "\n",
    "class KitchenSink(Sink):\n",
    "  def __init__(self, basin, nozzle, trash_compactor=None):\n",
    "    super().__init__(basin, nozzle)\n",
    "    if trash_compactor:\n",
    "      self.trash_compactor = trash_compactor\n",
    "```\n",
    "Above we defined two classes. First, we defined a Sink class with a constructor that assigns a rinse basin and a sink nozzle to a Sink instance. Afterwards, we defined a KitchenSink class that inherits from Sink. KitchenSink's constructor takes an additional parameter, a trash_compactor. KitchenSink then calls the constructor for Sink with the basin and nozzle it received using the super() function, with this line of code:\n",
    "```python\n",
    "super().__init__(basin, nozzle)\n",
    "```\n",
    "This line says: \"call the constructor (the function called __init__) of the class that is this class's parent class.\" In the example given, KitchenSink's constructor calls the constructor for Sink. In this way, we can override a parent class's method to add some new functionality (like adding a trash_compactor to a sink), while still retaining the behavior of the original constructor (like setting the basin and nozzle as instance variables)."
   ]
  },
  {
   "cell_type": "code",
   "execution_count": null,
   "metadata": {},
   "outputs": [],
   "source": [
    "class PotatoSalad:\n",
    "  def __init__(self, potatoes, celery, onions):\n",
    "    self.potatoes = potatoes\n",
    "    self.celery = celery\n",
    "    self.onions = onions\n",
    "    \n",
    "    \n",
    "# You're invited to a potluck this week and decide to make your own special version of Potato Salad!\n",
    "# You'll find a class called PotatoSalad, make a subclass of PotatoSalad called SpecialPotatoSalad.    \n",
    "\n",
    "\n",
    "\n",
    "\n",
    "\n",
    "# Your special potato salad recipe is pretty similar to a regular potato salad, so let's start with making that.\n",
    "# Create a new constructor for SpecialPotatoSalad that just calls the parent constructor for PotatoSalad. \n",
    "# Make sure that SpecialPotatoSalad's constructor takes the same arguments as PotatoSalad.\n",
    "\n",
    "\n",
    "\n",
    "\n",
    "\n",
    "# The difference with your special potato salad is... you add raisins to it! \n",
    "# You can't remember when you started doing this, but Dolores always hoots about it \n",
    "# at her potlucks and if that isn't the nicest thing. \n",
    "# You always use the full package of raisins for every potato salad you make, and each package has 40 raisins in it.\n",
    "\n",
    "# In your constructor for SpecialPotatoSalad, after making regular potato salad, set self.raisins = 40.\n",
    "    "
   ]
  },
  {
   "cell_type": "markdown",
   "metadata": {},
   "source": [
    "## Interfaces\n",
    "You may be wondering at this point why we would even want to have two different classes with two differently implemented methods to use the same method name. This style is especially useful when we have an object for which it might not matter which class the object is an instance of. Instead, we're interested in whether that object can perform a given task.\n",
    "\n",
    "If we have the following code:\n",
    "```python\n",
    "class Chess:\n",
    "  def __init__(self):\n",
    "    self.board = setup_board()\n",
    "    self.pieces = add_chess_pieces()\n",
    "\n",
    "  def play(self):\n",
    "    print(\"Playing chess!\")\n",
    "\n",
    "class Checkers:\n",
    "  def __init__(self):\n",
    "    self.board = setup_board()\n",
    "    self.pieces = add_checkers_pieces()\n",
    "\n",
    "  def play(self):\n",
    "    print(\"Playing checkers!\")\n",
    "```\n",
    "In the code above we define two classes, Chess and Checkers. In Chess we define a constructor that sets up the board and pieces, and a .play() method. Checkers also defines a .play() method. If we have a play_game() function that takes an instance of Chess or Checkers, it could call the .play() method without having to check which class the object is an instance of.\n",
    "```python\n",
    "def play_game(chess_or_checkers):\n",
    "  chess_or_checkers.play()\n",
    "\n",
    "chess_game = Chess()\n",
    "checkers_game = Checkers()\n",
    "chess_game_2 = Chess()\n",
    "\n",
    "for game in [chess_game, checkers_game, chess_game_2]:\n",
    "  play_game(game)\n",
    "\"\"\"\n",
    "Prints out the following:\n",
    "Playing chess!\n",
    "Playing checkers!\n",
    "Playing chess!\n",
    "```\n",
    "In this code, we defined a play_game function that could take either a Chess object or a Checkers object. We instantiate a few objects and then call play_game on each.\n",
    "\n",
    "When two classes have the same method names and attributes, we say they implement the same interface. An interface in Python usually refers to the names of the methods and the arguments they take. Other programming languages have more rigid definitions of what an interface is, but it usually hinges on the fact that different objects from different classes can perform the same operation (even if it is implemented differently for each class)."
   ]
  },
  {
   "cell_type": "code",
   "execution_count": null,
   "metadata": {},
   "outputs": [],
   "source": [
    "# we've defined an InsurancePolicy class. Create a subclass of InsurancePolicy called VehicleInsurance.\n",
    "class InsurancePolicy:\n",
    "  def __init__(self, price_of_item):\n",
    "    self.price_of_insured_item = price_of_item\n",
    "    \n",
    "    \n",
    "    \n",
    "# Create a different subclass of InsurancePolicy called HomeInsurance.\n",
    "\n",
    "\n",
    "# Give VehicleInsurance a .get_rate() method that takes self as a parameter. \n",
    "# Return .001 multiplied by the price of the vehicle.\n",
    "\n",
    "\n",
    "\n",
    "\n",
    "# Give HomeInsurance a .get_rate() method that takes self as a parameter. \n",
    "# Return .00005 multiplied by the price of the home."
   ]
  },
  {
   "cell_type": "markdown",
   "metadata": {},
   "source": [
    "## Polymorphism\n",
    "All this talk of interfaces demonstrates flexibility in programming. Flexibility in programming is a broad philosophy, but what's worth remembering is that we want to implement forms that are familiar in our programs so that usage is expected. For example, let's think of the + operator. It's easy to think of it as a single function that \"adds\" whatever is on the left with whatever is on the right, but it does many different things in different contexts:\n",
    "```python\n",
    "# For an int and an int, + returns an int\n",
    "2 + 4 == 6\n",
    "\n",
    "# For a float and a float, + returns a float\n",
    "3.1 + 2.1 == 5.2\n",
    "\n",
    "# For a string and a string, + returns a string\n",
    "\"Is this \" + \"addition?\" == \"Is this addition?\"\n",
    "\n",
    "# For a list and a list, + returns a list\n",
    "[1, 2] + [3, 4] == [1, 2, 3, 4]\n",
    "```\n",
    "Look at all the different things that + does! The hope is that all of these things are, for the arguments given to them, the intuitive result of adding them together. Polymorphism is the term used to describe the same syntax (like the + operator here, but it could be a method name) doing different actions depending on the type of data.\n",
    "\n",
    "Polymorphism is an abstract concept that covers a lot of ground, but defining class hierarchies that all implement the same interface is a way of introducing polymorphism to our code."
   ]
  },
  {
   "cell_type": "code",
   "execution_count": null,
   "metadata": {},
   "outputs": [],
   "source": [
    "# a few different types of data are provided. Call len() on each of them.\n",
    "\n",
    "# Is the same operation happening for each? How is it different? How is it similar? \n",
    "# Does using len() to refer to these different operations make sense?\n",
    "\n",
    "a_list = [1, 18, 32, 12]\n",
    "a_dict = {'value': True}\n",
    "a_string = \"Polymorphism is cool!\""
   ]
  },
  {
   "cell_type": "markdown",
   "metadata": {},
   "source": [
    "## Dunder Methods\n",
    "One way that we can introduce polymorphism to our class definitions is by using Python's special dunder methods. We've explored a few already, the constructor `__init__` and the string representation method `__repr__`, but that's only scratching the tip of the iceberg.\n",
    "\n",
    "Python gives us the power to define dunder methods that define a custom-made class to look and behave like a Python builtin. What does that mean? Say we had a class that has an addition method:\n",
    "```python\n",
    "class Color:\n",
    "  def __init__(self, red, blue, green):\n",
    "    self.red = red\n",
    "    self.blue = blue\n",
    "    self.green = green\n",
    "\n",
    "  def __repr__(self):\n",
    "    return \"Color with RGB = ({red}, {blue}, {green})\".format(red=self.red, blue=self.blue, green=self.green)\n",
    "\n",
    "  def add(self, other):\n",
    "    \"\"\"\n",
    "    Adds two RGB colors together\n",
    "    Maximum value is 255\n",
    "    \"\"\"\n",
    "    new_red = min(self.red + other.red, 255)\n",
    "    new_blue = min(self.blue + other.blue, 255)\n",
    "    new_green = min(self.green + other.green, 255)\n",
    "\n",
    "    return Color(new_red, new_blue, new_green)\n",
    "\n",
    "red = Color(255, 0, 0)\n",
    "blue = Color(0, 255, 0)\n",
    "\n",
    "magenta = red.add(blue)\n",
    "print(magenta)\n",
    "# Prints \"Color with RGB = (255, 255, 0)\"\n",
    "```\n",
    "In this code we defined a Color class that implements an addition function. Unfortunately, red.add(blue) is a little verbose for something that we have an intuitive symbol for (i.e., the + symbol). Well, Python offers the dunder method `__add__` for this very reason! If we rename the add() method above to something that looks like this:\n",
    "```python\n",
    "class Color: \n",
    "  def __add__(self, other):\n",
    "    \"\"\"\n",
    "    Adds two RGB colors together\n",
    "    Maximum value is 255\n",
    "    \"\"\"\n",
    "    new_red = min(self.red + other.red, 255)\n",
    "    new_blue = min(self.blue + other.blue, 255)\n",
    "    new_green = min(self.green + other.green, 255)\n",
    "\n",
    "    return Color(new_red, new_blue, new_green)\n",
    "```\n",
    "Then, if we create the colors:\n",
    "```python\n",
    "red = Color(255, 0, 0)\n",
    "blue = Color(0, 255, 0)\n",
    "green = Color(0, 0, 255)\n",
    "```\n",
    "We can add them together using the + operator!\n",
    "\n",
    "```python\n",
    "# Color with RGB: (255, 255, 0)\n",
    "magenta = red + blue\n",
    "\n",
    "# Color with RGB: (0, 255, 255)\n",
    "cyan = blue + green\n",
    "\n",
    "# Color with RGB: (255, 0, 255)\n",
    "yellow = red + green\n",
    "\n",
    "# Color with RGB: (255, 255, 255)\n",
    "white = red + blue + green\n",
    "```\n",
    "Since we defined an `__add__` method for our Color class, we were able to add these objects together using the + operator."
   ]
  },
  {
   "cell_type": "code",
   "execution_count": 548,
   "metadata": {},
   "outputs": [],
   "source": [
    "# there are two classes defined, Atom and Molecule.\n",
    "\n",
    "# Give Atom a .__add__(self, other) method that returns a Molecule with the two Atoms.\n",
    "\n",
    "class Atom:\n",
    "  def __init__(self, label):\n",
    "    self.label = label\n",
    "    \n",
    "class Molecule:\n",
    "  def __init__(self, atoms):\n",
    "    if type(atoms) is list:\n",
    "\t    self.atoms = atoms\n",
    "      \n",
    "sodium = Atom(\"Na\")\n",
    "chlorine = Atom(\"Cl\")\n",
    "salt = Molecule([sodium, chlorine])\n",
    "# salt = sodium + chlorine"
   ]
  },
  {
   "cell_type": "markdown",
   "metadata": {},
   "source": [
    "## Dunder Methods II\n",
    "Python offers a whole suite of magic methods a class can implement that will allow us to use the same syntax as Python's built-in data types. You can write functionality that allows custom defined types to behave like lists:\n",
    "```python\n",
    "class UserGroup:\n",
    "  def __init__(self, users, permissions):\n",
    "    self.user_list = users\n",
    "    self.permissions = permissions\n",
    "\n",
    "  def __iter__(self):\n",
    "    return iter(self.user_list)\n",
    "\n",
    "  def __len__(self):\n",
    "    return len(self.user_list)\n",
    "\n",
    "  def __contains__(self, user):\n",
    "    return user in self.user_list\n",
    "```\n",
    "In our UserGroup class above we defined three methods:\n",
    "\n",
    "- `__init__`, our constructor, which sets a list of users to the instance variable self.user_list and sets the group's permissions when we create a new UserGroup.\n",
    "- `__iter__`, the iterator, we use the iter() function to turn the list self.user_list into an iterator so we can use for user in user_group syntax. For more information on iterators, review [Python's documentation of Iterator Types](https://docs.python.org/3/library/stdtypes.html#typeiter).\n",
    "- `__len__`, the length method, so when we call len(user_group) it will return the length of the underlying self.user_list list.\n",
    "- `__contains__`, the check for containment, allows us to use user in user_group syntax to check if a User exists in the user_list we have.\n",
    "These methods allow UserGroup to act like a list using syntax Python programmers will already be familiar with. If all you need is something to act like a list you could absolutely have used a list, but if you want to bundle some other information (like a group's permissions, for instance) having syntax that allows for list-like operations can be very powerful.\n",
    "\n",
    "We would be able to use the following code to do this, for example:\n",
    "```python\n",
    "class User:\n",
    "  def __init__(self, username):\n",
    "    self.username = username\n",
    "\n",
    "diana = User('diana')\n",
    "frank = User('frank')\n",
    "jenn = User('jenn')\n",
    "\n",
    "can_edit = UserGroup([diana, frank], {'can_edit_page': True})\n",
    "can_delete = UserGroup([diana, jenn], {'can_delete_posts': True})\n",
    "\n",
    "print(len(can_edit))\n",
    "# Prints 2\n",
    "\n",
    "for user in can_edit:\n",
    "  print(user.username)\n",
    "# Prints \"diana\" and \"frank\"\n",
    "\n",
    "if frank in can_delete:\n",
    "  print(\"Since when do we allow Frank to delete things? Does no one remember when he accidentally deleted the site?\")\n",
    "```\n",
    "Above we created a set of users and then added them to UserGroups with specific permissions. Then we used Python built-in functions and syntax to calculate the length of a UserGroup, to iterate through a UserGroup and to check for a User's membership in a UserGroup."
   ]
  },
  {
   "cell_type": "code",
   "execution_count": null,
   "metadata": {},
   "outputs": [],
   "source": [
    "# you'll find the class LawFirm. Give LawFirm a .__len__() method that will return the number of lawyers in the law firm.\n",
    "\n",
    "class LawFirm:\n",
    "  def __init__(self, practice, lawyers):\n",
    "    self.practice = practice\n",
    "    self.lawyers = lawyers\n",
    "    \n",
    "d_and_p = LawFirm(\"Injury\", [\"Donelli\", \"Paderewski\"])\n",
    "\n",
    "\n",
    "\n",
    "# Give LawFirm a .__contains__() method that takes two parameters: \n",
    "# self and lawyer and checks to see if lawyer is in self.lawyers."
   ]
  }
 ],
 "metadata": {
  "kernelspec": {
   "display_name": "Python 3",
   "language": "python",
   "name": "python3"
  },
  "language_info": {
   "codemirror_mode": {
    "name": "ipython",
    "version": 3
   },
   "file_extension": ".py",
   "mimetype": "text/x-python",
   "name": "python",
   "nbconvert_exporter": "python",
   "pygments_lexer": "ipython3",
   "version": "3.8.3"
  }
 },
 "nbformat": 4,
 "nbformat_minor": 2
}
